{
 "cells": [
  {
   "cell_type": "code",
   "execution_count": null,
   "metadata": {},
   "outputs": [],
   "source": [
    "#check json in advance \n",
    "# https://xml-json.kwebpia.net/?state=%7B%22ids%22:%5B%221Mj2srr9nVnj3_-BP2WkWkBdD3PH5qwKe%22%5D,%22action%22:%22open%22,%22resourceKeys%22:%7B%7D%7D\n",
    "#check ass table with converter\n",
    "# https://www.convertcsv.com/json-to-csv.htm"
   ]
  },
  {
   "cell_type": "code",
   "execution_count": 1,
   "metadata": {},
   "outputs": [],
   "source": [
    "\n",
    "#Make sure to replace 'path_to_json_files' with the actual path to your folder containing the JSON files. \n",
    "#This code will read all the JSON files from the specified folder \n",
    "#and create a DataFrame where each JSON file becomes a row in the DataFrame, \n",
    "#and each key-value pair in the JSON file becomes a column in the DataFrame.\n",
    "\n",
    "import os\n",
    "import pandas as pd\n",
    "import json"
   ]
  },
  {
   "cell_type": "code",
   "execution_count": 2,
   "metadata": {},
   "outputs": [
    {
     "name": "stdout",
     "output_type": "stream",
     "text": [
      "                                           properties   \n",
      "0   {'feature_type': 'building', 'subtype': 'major...  \\\n",
      "1   {'feature_type': 'building', 'subtype': 'major...   \n",
      "2   {'feature_type': 'building', 'subtype': 'major...   \n",
      "3   {'feature_type': 'building', 'subtype': 'major...   \n",
      "4   {'feature_type': 'building', 'subtype': 'major...   \n",
      "5   {'feature_type': 'building', 'subtype': 'destr...   \n",
      "6   {'feature_type': 'building', 'subtype': 'major...   \n",
      "7   {'feature_type': 'building', 'subtype': 'minor...   \n",
      "8   {'feature_type': 'building', 'subtype': 'minor...   \n",
      "9   {'feature_type': 'building', 'subtype': 'minor...   \n",
      "10  {'feature_type': 'building', 'subtype': 'minor...   \n",
      "11  {'feature_type': 'building', 'subtype': 'destr...   \n",
      "12  {'feature_type': 'building', 'subtype': 'minor...   \n",
      "13  {'feature_type': 'building', 'subtype': 'no-da...   \n",
      "14  {'feature_type': 'building', 'subtype': 'no-da...   \n",
      "15  {'feature_type': 'building', 'subtype': 'minor...   \n",
      "16  {'feature_type': 'building', 'subtype': 'destr...   \n",
      "17  {'feature_type': 'building', 'subtype': 'major...   \n",
      "18  {'feature_type': 'building', 'subtype': 'major...   \n",
      "19  {'feature_type': 'building', 'subtype': 'destr...   \n",
      "\n",
      "                                                  wkt  \n",
      "0   POLYGON ((-90.832067814151 14.42973661152615, ...  \n",
      "1   POLYGON ((-90.83252997708334 14.42954147154196...  \n",
      "2   POLYGON ((-90.83271668377375 14.42913614244135...  \n",
      "3   POLYGON ((-90.83257627161643 14.42910496831328...  \n",
      "4   POLYGON ((-90.83235446609405 14.4287720935799,...  \n",
      "5   POLYGON ((-90.83207415500928 14.42877625670688...  \n",
      "6   POLYGON ((-90.83168372147023 14.42891474038311...  \n",
      "7   POLYGON ((-90.83146136612598 14.42897306108949...  \n",
      "8   POLYGON ((-90.83199592261764 14.42913344135548...  \n",
      "9   POLYGON ((-90.83173911136365 14.42944956831556...  \n",
      "10  POLYGON ((-90.83153719319547 14.42973173014699...  \n",
      "11  POLYGON ((-90.83197848581875 14.42766504749074...  \n",
      "12  POLYGON ((-90.8312535095809 14.42750443137446,...  \n",
      "13  POLYGON ((-90.83122981261674 14.42743624696175...  \n",
      "14  POLYGON ((-90.83117011646738 14.42725370580411...  \n",
      "15  POLYGON ((-90.83110466908876 14.42709298312862...  \n",
      "16  POLYGON ((-90.83129368911064 14.42699299827717...  \n",
      "17  POLYGON ((-90.83225564470091 14.42595710116369...  \n",
      "18  POLYGON ((-90.83240552111822 14.4263621824737,...  \n",
      "19  POLYGON ((-90.83253142576986 14.42520794790593...  \n"
     ]
    }
   ],
   "source": [
    "def json_to_dataframe(folder_path):\n",
    "    data = []\n",
    "    for filename in os.listdir(folder_path):\n",
    "        if filename.endswith(\".json\"):\n",
    "            file_path = os.path.join(folder_path, filename)\n",
    "            with open(file_path, \"r\") as file:\n",
    "                json_data = json.load(file)\n",
    "                data.append(json_data[\"features\"][\"lng_lat\"])\n",
    "\n",
    "    flat_data = [item for sublist in data for item in sublist]\n",
    "    df = pd.DataFrame(flat_data)\n",
    "    return df\n",
    "\n",
    "if __name__ == \"__main__\":\n",
    "    folder_path = \"/Users/marceljaschinski/Downloads/jsonFolder/\"   #<---- adapt the file path here!!!!!!\n",
    "    df = json_to_dataframe(folder_path)\n",
    "    print(df)\n"
   ]
  },
  {
   "cell_type": "code",
   "execution_count": 3,
   "metadata": {},
   "outputs": [
    {
     "name": "stdout",
     "output_type": "stream",
     "text": [
      "<class 'pandas.core.frame.DataFrame'>\n",
      "RangeIndex: 20 entries, 0 to 19\n",
      "Data columns (total 2 columns):\n",
      " #   Column      Non-Null Count  Dtype \n",
      "---  ------      --------------  ----- \n",
      " 0   properties  20 non-null     object\n",
      " 1   wkt         20 non-null     object\n",
      "dtypes: object(2)\n",
      "memory usage: 452.0+ bytes\n"
     ]
    }
   ],
   "source": [
    "df.info()"
   ]
  },
  {
   "cell_type": "code",
   "execution_count": 4,
   "metadata": {},
   "outputs": [
    {
     "data": {
      "text/html": [
       "<div>\n",
       "<style scoped>\n",
       "    .dataframe tbody tr th:only-of-type {\n",
       "        vertical-align: middle;\n",
       "    }\n",
       "\n",
       "    .dataframe tbody tr th {\n",
       "        vertical-align: top;\n",
       "    }\n",
       "\n",
       "    .dataframe thead th {\n",
       "        text-align: right;\n",
       "    }\n",
       "</style>\n",
       "<table border=\"1\" class=\"dataframe\">\n",
       "  <thead>\n",
       "    <tr style=\"text-align: right;\">\n",
       "      <th></th>\n",
       "      <th>properties</th>\n",
       "      <th>wkt</th>\n",
       "    </tr>\n",
       "  </thead>\n",
       "  <tbody>\n",
       "    <tr>\n",
       "      <th>0</th>\n",
       "      <td>{'feature_type': 'building', 'subtype': 'major...</td>\n",
       "      <td>POLYGON ((-90.832067814151 14.42973661152615, ...</td>\n",
       "    </tr>\n",
       "    <tr>\n",
       "      <th>1</th>\n",
       "      <td>{'feature_type': 'building', 'subtype': 'major...</td>\n",
       "      <td>POLYGON ((-90.83252997708334 14.42954147154196...</td>\n",
       "    </tr>\n",
       "    <tr>\n",
       "      <th>2</th>\n",
       "      <td>{'feature_type': 'building', 'subtype': 'major...</td>\n",
       "      <td>POLYGON ((-90.83271668377375 14.42913614244135...</td>\n",
       "    </tr>\n",
       "    <tr>\n",
       "      <th>3</th>\n",
       "      <td>{'feature_type': 'building', 'subtype': 'major...</td>\n",
       "      <td>POLYGON ((-90.83257627161643 14.42910496831328...</td>\n",
       "    </tr>\n",
       "    <tr>\n",
       "      <th>4</th>\n",
       "      <td>{'feature_type': 'building', 'subtype': 'major...</td>\n",
       "      <td>POLYGON ((-90.83235446609405 14.4287720935799,...</td>\n",
       "    </tr>\n",
       "  </tbody>\n",
       "</table>\n",
       "</div>"
      ],
      "text/plain": [
       "                                          properties   \n",
       "0  {'feature_type': 'building', 'subtype': 'major...  \\\n",
       "1  {'feature_type': 'building', 'subtype': 'major...   \n",
       "2  {'feature_type': 'building', 'subtype': 'major...   \n",
       "3  {'feature_type': 'building', 'subtype': 'major...   \n",
       "4  {'feature_type': 'building', 'subtype': 'major...   \n",
       "\n",
       "                                                 wkt  \n",
       "0  POLYGON ((-90.832067814151 14.42973661152615, ...  \n",
       "1  POLYGON ((-90.83252997708334 14.42954147154196...  \n",
       "2  POLYGON ((-90.83271668377375 14.42913614244135...  \n",
       "3  POLYGON ((-90.83257627161643 14.42910496831328...  \n",
       "4  POLYGON ((-90.83235446609405 14.4287720935799,...  "
      ]
     },
     "execution_count": 4,
     "metadata": {},
     "output_type": "execute_result"
    }
   ],
   "source": [
    "df.head()"
   ]
  },
  {
   "cell_type": "code",
   "execution_count": 11,
   "metadata": {},
   "outputs": [
    {
     "data": {
      "text/plain": [
       "0    {'feature_type': 'building', 'subtype': 'major...\n",
       "1    {'feature_type': 'building', 'subtype': 'major...\n",
       "2    {'feature_type': 'building', 'subtype': 'major...\n",
       "3    {'feature_type': 'building', 'subtype': 'major...\n",
       "4    {'feature_type': 'building', 'subtype': 'major...\n",
       "Name: properties, dtype: object"
      ]
     },
     "execution_count": 11,
     "metadata": {},
     "output_type": "execute_result"
    }
   ],
   "source": [
    "df['properties'].head()"
   ]
  },
  {
   "cell_type": "code",
   "execution_count": 7,
   "metadata": {},
   "outputs": [
    {
     "data": {
      "text/plain": [
       "0    POLYGON ((-90.832067814151 14.42973661152615, ...\n",
       "1    POLYGON ((-90.83252997708334 14.42954147154196...\n",
       "2    POLYGON ((-90.83271668377375 14.42913614244135...\n",
       "3    POLYGON ((-90.83257627161643 14.42910496831328...\n",
       "4    POLYGON ((-90.83235446609405 14.4287720935799,...\n",
       "Name: wkt, dtype: object"
      ]
     },
     "execution_count": 7,
     "metadata": {},
     "output_type": "execute_result"
    }
   ],
   "source": [
    "df['wkt'].head()"
   ]
  },
  {
   "cell_type": "code",
   "execution_count": 9,
   "metadata": {},
   "outputs": [
    {
     "data": {
      "text/plain": [
       "Index(['properties', 'wkt'], dtype='object')"
      ]
     },
     "execution_count": 9,
     "metadata": {},
     "output_type": "execute_result"
    }
   ],
   "source": [
    "df.columns"
   ]
  },
  {
   "cell_type": "code",
   "execution_count": null,
   "metadata": {},
   "outputs": [],
   "source": [
    "# see, we need to adaptthe code for the first column - several - dictionaries"
   ]
  }
 ],
 "metadata": {
  "kernelspec": {
   "display_name": "Python 3",
   "language": "python",
   "name": "python3"
  },
  "language_info": {
   "codemirror_mode": {
    "name": "ipython",
    "version": 3
   },
   "file_extension": ".py",
   "mimetype": "text/x-python",
   "name": "python",
   "nbconvert_exporter": "python",
   "pygments_lexer": "ipython3",
   "version": "3.11.3"
  },
  "orig_nbformat": 4
 },
 "nbformat": 4,
 "nbformat_minor": 2
}
