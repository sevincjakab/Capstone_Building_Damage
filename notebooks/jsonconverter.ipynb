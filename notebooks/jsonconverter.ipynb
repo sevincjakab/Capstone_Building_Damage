{
 "cells": [
  {
   "cell_type": "markdown",
   "metadata": {},
   "source": [
    "# 1- Convert json files to data frames + Decode the json columns"
   ]
  },
  {
   "cell_type": "markdown",
   "metadata": {},
   "source": [
    "### Dataframes:\n",
    "\n",
    "- df_json_withmeta\n",
    "\n",
    "- df_json_nometa"
   ]
  },
  {
   "cell_type": "markdown",
   "metadata": {},
   "source": [
    "### Useful Links"
   ]
  },
  {
   "cell_type": "markdown",
   "metadata": {},
   "source": [
    "**Check json in advance visually**   \n",
    " [View \"intended\" JSON](https://xml-json.kwebpia.net/?state=%7B%22ids%22:%5B%221Mj2srr9nVnj3_-BP2WkWkBdD3PH5qwKe%22%5D,%22action%22:%22open%22,%22resourceKeys%22:%7B%7D%7D)  \n",
    "  \n",
    "**Check JSON as table with converter**   \n",
    " [Online converter JSON to CSV/Excel](https://www.convertcsv.com/json-to-csv.htm)"
   ]
  },
  {
   "cell_type": "markdown",
   "metadata": {},
   "source": [
    "### Codes"
   ]
  },
  {
   "cell_type": "markdown",
   "metadata": {},
   "source": [
    "This part will read all the JSON files from the specified folder and create a DataFrame where each JSON file becomes a row in the DataFrame, and each key-value pair in the JSON file becomes a column in the DataFrame."
   ]
  },
  {
   "cell_type": "code",
   "execution_count": 2,
   "metadata": {},
   "outputs": [],
   "source": [
    "# load libraries\n",
    "import os\n",
    "import pandas as pd\n",
    "import json"
   ]
  },
  {
   "cell_type": "code",
   "execution_count": 3,
   "metadata": {},
   "outputs": [],
   "source": [
    "# Below code helps us to register the consecutive cells automatically into a\n",
    "# python script whenever we put %%write_and_run Building_Damage-Python.py at the \n",
    "# beginning of that cell\n",
    "from IPython.core.magic import register_cell_magic\n",
    "\n",
    "@register_cell_magic\n",
    "def write_and_run(line, cell):\n",
    "    \"\"\"write python code into file and execute it as well\"\"\"\n",
    "\n",
    "    argz = line.split()\n",
    "    file = argz[-1]\n",
    "    mode = 'w'\n",
    "    if len(argz) == 2 and argz[0] == '-a':\n",
    "        mode = 'a'\n",
    "        print(\"Appended to file \", file)\n",
    "    else:\n",
    "        print('Written to file:', file)\n",
    "    with open(file, mode) as f:\n",
    "        f.write(cell.format(**globals()))        \n",
    "    get_ipython().run_cell(cell)"
   ]
  },
  {
   "cell_type": "code",
   "execution_count": 4,
   "metadata": {},
   "outputs": [],
   "source": [
    "import pandas as pd\n",
    "\n",
    "def json_to_dataframe_with_metadata(folder_path):\n",
    "    '''\n",
    "    This function converts json files that carry the class labels into\n",
    "    data frame and at the same time decodes the json column into individual columns\n",
    "    including the metadata.\n",
    "    '''\n",
    "    data = []\n",
    "    metadata_columns = []  # List to store metadata for each file\n",
    "\n",
    "    for filename in os.listdir(folder_path):\n",
    "        if filename.endswith(\".json\"):\n",
    "            file_path = os.path.join(folder_path, filename)\n",
    "            with open(file_path, \"r\") as file:\n",
    "                json_data = json.load(file)\n",
    "\n",
    "                # Extract metadata from the JSON file\n",
    "                metadata = json_data.get(\"metadata\", {})  # Replace \"metadata\" with the correct key name for metadata\n",
    "                metadata_prefixed = {f\"metadata_{key}\": value for key, value in metadata.items()}\n",
    "                metadata_columns.append(metadata_prefixed)  # Append metadata to the list\n",
    "\n",
    "                # Append \"lng_lat\" data to the data list\n",
    "                lng_lat = json_data[\"features\"][\"lng_lat\"]\n",
    "                for item in lng_lat:\n",
    "                    properties_prefixed = {f\"properties_{key}\": value for key, value in item[\"properties\"].items()}\n",
    "                    item.update(metadata_prefixed)  # Add metadata to each \"lng_lat\" item\n",
    "                    item.update(properties_prefixed)  # Add properties with prefix to each \"lng_lat\" item\n",
    "                    data.append(item)\n",
    "\n",
    "    # Create a DataFrame\n",
    "    df = pd.DataFrame(data)\n",
    "\n",
    "    return df\n",
    "\n"
   ]
  },
  {
   "cell_type": "code",
   "execution_count": 5,
   "metadata": {},
   "outputs": [
    {
     "name": "stdout",
     "output_type": "stream",
     "text": [
      "                                              properties   \n",
      "0      {'feature_type': 'building', 'uid': 'be9a0ebd-...  \\\n",
      "1      {'feature_type': 'building', 'uid': 'b0ddd757-...   \n",
      "2      {'feature_type': 'building', 'uid': '2a9b8903-...   \n",
      "3      {'feature_type': 'building', 'uid': '8ed1f0f8-...   \n",
      "4      {'feature_type': 'building', 'uid': 'ff6d93c2-...   \n",
      "...                                                  ...   \n",
      "46485  {'feature_type': 'building', 'subtype': 'destr...   \n",
      "46486  {'feature_type': 'building', 'subtype': 'destr...   \n",
      "46487  {'feature_type': 'building', 'subtype': 'destr...   \n",
      "46488  {'feature_type': 'building', 'subtype': 'destr...   \n",
      "46489  {'feature_type': 'building', 'subtype': 'major...   \n",
      "\n",
      "                                                     wkt metadata_sensor   \n",
      "0      POLYGON ((-118.7907960354536 34.02599963287881...     WORLDVIEW02  \\\n",
      "1      POLYGON ((-118.7906623432389 34.02600158028667...     WORLDVIEW02   \n",
      "2      POLYGON ((-118.7913004877881 34.02610196188851...     WORLDVIEW02   \n",
      "3      POLYGON ((-118.7912403492385 34.0260637285318,...     WORLDVIEW02   \n",
      "4      POLYGON ((-118.7908676679243 34.02613182110304...     WORLDVIEW02   \n",
      "...                                                  ...             ...   \n",
      "46485  POLYGON ((-122.7108199481843 38.52490327739446...        GEOEYE01   \n",
      "46486  POLYGON ((-122.7101531905571 38.52520692781616...        GEOEYE01   \n",
      "46487  POLYGON ((-122.710667452302 38.52537764050521,...        GEOEYE01   \n",
      "46488  POLYGON ((-122.7108385586067 38.52535134950664...        GEOEYE01   \n",
      "46489  POLYGON ((-122.7130562310788 38.52274140515227...        GEOEYE01   \n",
      "\n",
      "      metadata_provider_asset_type  metadata_gsd     metadata_capture_date   \n",
      "0                      WORLDVIEW02      1.989496  2018-10-23T18:51:02.000Z  \\\n",
      "1                      WORLDVIEW02      1.989496  2018-10-23T18:51:02.000Z   \n",
      "2                      WORLDVIEW02      1.989496  2018-10-23T18:51:02.000Z   \n",
      "3                      WORLDVIEW02      1.989496  2018-10-23T18:51:02.000Z   \n",
      "4                      WORLDVIEW02      1.989496  2018-10-23T18:51:02.000Z   \n",
      "...                            ...           ...                       ...   \n",
      "46485                     GEOEYE01      1.876994  2017-10-11T19:19:41.000Z   \n",
      "46486                     GEOEYE01      1.876994  2017-10-11T19:19:41.000Z   \n",
      "46487                     GEOEYE01      1.876994  2017-10-11T19:19:41.000Z   \n",
      "46488                     GEOEYE01      1.876994  2017-10-11T19:19:41.000Z   \n",
      "46489                     GEOEYE01      1.876994  2017-10-11T19:19:41.000Z   \n",
      "\n",
      "       metadata_off_nadir_angle  metadata_pan_resolution   \n",
      "0                     15.396526                 0.498313  \\\n",
      "1                     15.396526                 0.498313   \n",
      "2                     15.396526                 0.498313   \n",
      "3                     15.396526                 0.498313   \n",
      "4                     15.396526                 0.498313   \n",
      "...                         ...                      ...   \n",
      "46485                 21.352135                 0.468878   \n",
      "46486                 21.352135                 0.468878   \n",
      "46487                 21.352135                 0.468878   \n",
      "46488                 21.352135                 0.468878   \n",
      "46489                 21.352135                 0.468878   \n",
      "\n",
      "       metadata_sun_azimuth  metadata_sun_elevation  ...  metadata_catalog_id   \n",
      "0                 163.75761                 42.6674  ...     1030010088D86900  \\\n",
      "1                 163.75761                 42.6674  ...     1030010088D86900   \n",
      "2                 163.75761                 42.6674  ...     1030010088D86900   \n",
      "3                 163.75761                 42.6674  ...     1030010088D86900   \n",
      "4                 163.75761                 42.6674  ...     1030010088D86900   \n",
      "...                     ...                     ...  ...                  ...   \n",
      "46485             166.99900                 43.5620  ...     105001000C5D4200   \n",
      "46486             166.99900                 43.5620  ...     105001000C5D4200   \n",
      "46487             166.99900                 43.5620  ...     105001000C5D4200   \n",
      "46488             166.99900                 43.5620  ...     105001000C5D4200   \n",
      "46489             166.99900                 43.5620  ...     105001000C5D4200   \n",
      "\n",
      "      metadata_original_width metadata_original_height metadata_width   \n",
      "0                        1024                     1024           1024  \\\n",
      "1                        1024                     1024           1024   \n",
      "2                        1024                     1024           1024   \n",
      "3                        1024                     1024           1024   \n",
      "4                        1024                     1024           1024   \n",
      "...                       ...                      ...            ...   \n",
      "46485                    1024                     1024           1024   \n",
      "46486                    1024                     1024           1024   \n",
      "46487                    1024                     1024           1024   \n",
      "46488                    1024                     1024           1024   \n",
      "46489                    1024                     1024           1024   \n",
      "\n",
      "       metadata_height                             metadata_id   \n",
      "0                 1024  MjU3NzkyNg.krKtoByLc6Nrelz_DPpxgNXTvS0  \\\n",
      "1                 1024  MjU3NzkyNg.krKtoByLc6Nrelz_DPpxgNXTvS0   \n",
      "2                 1024  MjU3NzkyNg.krKtoByLc6Nrelz_DPpxgNXTvS0   \n",
      "3                 1024  MjU3NzkyNg.krKtoByLc6Nrelz_DPpxgNXTvS0   \n",
      "4                 1024  MjU3NzkyNg.krKtoByLc6Nrelz_DPpxgNXTvS0   \n",
      "...                ...                                     ...   \n",
      "46485             1024  MjUyNjc1Ng.WV3yP0TZ3w2mPhwkMk5FFIv2A1Y   \n",
      "46486             1024  MjUyNjc1Ng.WV3yP0TZ3w2mPhwkMk5FFIv2A1Y   \n",
      "46487             1024  MjUyNjc1Ng.WV3yP0TZ3w2mPhwkMk5FFIv2A1Y   \n",
      "46488             1024  MjUyNjc1Ng.WV3yP0TZ3w2mPhwkMk5FFIv2A1Y   \n",
      "46489             1024  MjUyNjc1Ng.WV3yP0TZ3w2mPhwkMk5FFIv2A1Y   \n",
      "\n",
      "                                    metadata_img_name   \n",
      "0                socal-fire_00001298_pre_disaster.png  \\\n",
      "1                socal-fire_00001298_pre_disaster.png   \n",
      "2                socal-fire_00001298_pre_disaster.png   \n",
      "3                socal-fire_00001298_pre_disaster.png   \n",
      "4                socal-fire_00001298_pre_disaster.png   \n",
      "...                                               ...   \n",
      "46485  santa-rosa-wildfire_00000190_post_disaster.png   \n",
      "46486  santa-rosa-wildfire_00000190_post_disaster.png   \n",
      "46487  santa-rosa-wildfire_00000190_post_disaster.png   \n",
      "46488  santa-rosa-wildfire_00000190_post_disaster.png   \n",
      "46489  santa-rosa-wildfire_00000190_post_disaster.png   \n",
      "\n",
      "       properties_feature_type                        properties_uid   \n",
      "0                     building  be9a0ebd-ea5c-4127-b510-9545f832283b  \\\n",
      "1                     building  b0ddd757-ba3d-4bbd-b3d2-ddfe4f608f38   \n",
      "2                     building  2a9b8903-7c56-4367-bbf9-90325a1a5644   \n",
      "3                     building  8ed1f0f8-2b6e-4034-804b-c69f37e27cde   \n",
      "4                     building  ff6d93c2-5460-40da-b2bc-3e89e63dd3e4   \n",
      "...                        ...                                   ...   \n",
      "46485                 building  48ff0e3b-60df-4395-9118-685b7dac4a1c   \n",
      "46486                 building  9ecbdef9-8b54-4100-8356-b23f0aba0c28   \n",
      "46487                 building  c7a23462-719e-421e-aadf-7683a261b6e9   \n",
      "46488                 building  604e7361-3522-45b3-9a13-9685594de67f   \n",
      "46489                 building  a898b1a6-987a-433b-ada8-4abdf634f528   \n",
      "\n",
      "      properties_subtype  \n",
      "0                    NaN  \n",
      "1                    NaN  \n",
      "2                    NaN  \n",
      "3                    NaN  \n",
      "4                    NaN  \n",
      "...                  ...  \n",
      "46485          destroyed  \n",
      "46486          destroyed  \n",
      "46487          destroyed  \n",
      "46488          destroyed  \n",
      "46489       major-damage  \n",
      "\n",
      "[46490 rows x 23 columns]\n"
     ]
    }
   ],
   "source": [
    "#only for training set\n",
    "\n",
    "folder_path = \"/Users/sevincjakab/neuefische_bootcamp/20230717-NewRepo-Capstone-Building_Damage/Capstone_Building_Damage/data/subset/training/labels/\"   #<---- adapt the file path here!!!!!!\n",
    "df_json_withmeta = json_to_dataframe_with_metadata(folder_path)\n",
    "print(df_json_withmeta)"
   ]
  },
  {
   "cell_type": "code",
   "execution_count": 6,
   "metadata": {},
   "outputs": [],
   "source": [
    "# drop the properties column\n",
    "df_json_withmeta.drop('properties', axis=1, inplace=True) # inplace=True makes sure the original dataframe is changed!"
   ]
  },
  {
   "cell_type": "code",
   "execution_count": 7,
   "metadata": {},
   "outputs": [
    {
     "name": "stdout",
     "output_type": "stream",
     "text": [
      "<class 'pandas.core.frame.DataFrame'>\n",
      "RangeIndex: 46490 entries, 0 to 46489\n",
      "Data columns (total 22 columns):\n",
      " #   Column                        Non-Null Count  Dtype  \n",
      "---  ------                        --------------  -----  \n",
      " 0   wkt                           46490 non-null  object \n",
      " 1   metadata_sensor               46490 non-null  object \n",
      " 2   metadata_provider_asset_type  46490 non-null  object \n",
      " 3   metadata_gsd                  46490 non-null  float64\n",
      " 4   metadata_capture_date         46490 non-null  object \n",
      " 5   metadata_off_nadir_angle      46490 non-null  float64\n",
      " 6   metadata_pan_resolution       46490 non-null  float64\n",
      " 7   metadata_sun_azimuth          46490 non-null  float64\n",
      " 8   metadata_sun_elevation        46490 non-null  float64\n",
      " 9   metadata_target_azimuth       46490 non-null  float64\n",
      " 10  metadata_disaster             46490 non-null  object \n",
      " 11  metadata_disaster_type        46490 non-null  object \n",
      " 12  metadata_catalog_id           46490 non-null  object \n",
      " 13  metadata_original_width       46490 non-null  int64  \n",
      " 14  metadata_original_height      46490 non-null  int64  \n",
      " 15  metadata_width                46490 non-null  int64  \n",
      " 16  metadata_height               46490 non-null  int64  \n",
      " 17  metadata_id                   46490 non-null  object \n",
      " 18  metadata_img_name             46490 non-null  object \n",
      " 19  properties_feature_type       46490 non-null  object \n",
      " 20  properties_uid                46490 non-null  object \n",
      " 21  properties_subtype            23245 non-null  object \n",
      "dtypes: float64(6), int64(4), object(12)\n",
      "memory usage: 7.8+ MB\n"
     ]
    }
   ],
   "source": [
    "df_json_withmeta.info() \n",
    "\n",
    "#properties_subtype has half the number of other cols because only 'post-disaster' images have class name"
   ]
  },
  {
   "cell_type": "code",
   "execution_count": 8,
   "metadata": {},
   "outputs": [],
   "source": [
    "# # skip\n",
    "\n",
    "# def json_to_dataframe_with_metadata(folder_path):\n",
    "#     data = []\n",
    "#     metadata_columns = []  # List to store metadata for each file\n",
    "\n",
    "#     for filename in os.listdir(folder_path):\n",
    "#         if filename.endswith(\".json\"):\n",
    "#             file_path = os.path.join(folder_path, filename)\n",
    "#             with open(file_path, \"r\") as file:\n",
    "#                 json_data = json.load(file)\n",
    "\n",
    "#                 # Extract metadata from the JSON file\n",
    "#                 metadata = json_data.get(\"metadata\", {})  # Replace \"metadata\" with the correct key name for metadata\n",
    "#                 metadata_columns.append(metadata)  # Append metadata to the list\n",
    "\n",
    "#                 # Append \"lng_lat\" data to the data list\n",
    "#                 data.append(json_data[\"features\"][\"lng_lat\"])\n",
    "\n",
    "#     # Create a DataFrame for \"lng_lat\" data\n",
    "#     flat_data = [item for sublist in data for item in sublist]\n",
    "#     df = pd.DataFrame(flat_data)\n",
    "\n",
    "#     # Create a DataFrame for metadata\n",
    "#     metadata_df = pd.DataFrame(metadata_columns)\n",
    "\n",
    "#     # Add 'metadata_' prefix to metadata columns\n",
    "#     metadata_df.columns = [f\"metadata_{col}\" for col in metadata_df.columns]\n",
    "\n",
    "#     # Concatenate the \"lng_lat\" DataFrame and the metadata DataFrame\n",
    "#     result_df = pd.concat([df, metadata_df], axis=1)\n",
    "\n",
    "#     return result_df\n",
    "\n",
    "\n",
    "\n",
    "# #only for training set\n",
    "# if __name__ == \"__main__\":\n",
    "#     folder_path = \"/Users/sevincjakab/neuefische_bootcamp/20230717-NewRepo-Capstone-Building_Damage/Capstone_Building_Damage/data/subset/training/labels/\"   #<---- adapt the file path here!!!!!!\n",
    "#     df_json_withmeta = json_to_dataframe_with_metadata(folder_path)\n",
    "#     print(df_json_withmeta)\n"
   ]
  },
  {
   "cell_type": "code",
   "execution_count": 9,
   "metadata": {},
   "outputs": [],
   "source": [
    "# %%write_and_run -a Json_Converter-Python.py\n",
    "# # skip \n",
    "# # Make sure to replace 'path_to_json_files' with the actual path to your folder containing the JSON files. \n",
    "# # function to convert json to a df\n",
    "\n",
    "# def json_to_dataframe_without_metadata(folder_path):\n",
    "#     data = []\n",
    "#     for filename in os.listdir(folder_path):\n",
    "#         if filename.endswith(\".json\"):\n",
    "#             file_path = os.path.join(folder_path, filename)\n",
    "#             with open(file_path, \"r\") as file: #opens the json\n",
    "#                 #json.load() function reads the content of the opened \n",
    "#                 # JSON file (file) and parses it into Python data structures. \n",
    "#                 json_data = json.load(file) \n",
    "#                 data.append(json_data[\"features\"]['lng_lat'])\n",
    "\n",
    "#     flat_data = [item for sublist in data for item in sublist]\n",
    "#     df = pd.DataFrame(flat_data)\n",
    "#     return df\n",
    "\n",
    "# #only for training set\n",
    "# if __name__ == \"__main__\":\n",
    "#     folder_path = \"/Users/sevincjakab/neuefische_bootcamp/20230717-NewRepo-Capstone-Building_Damage/Capstone_Building_Damage/data/subset/training/labels/\"   #<---- adapt the file path here!!!!!!\n",
    "#     df_json_nometa = json_to_dataframe_without_metadata(folder_path)\n",
    "#     print(df_json_nometa)\n"
   ]
  },
  {
   "cell_type": "code",
   "execution_count": 10,
   "metadata": {},
   "outputs": [
    {
     "data": {
      "text/html": [
       "<div>\n",
       "<style scoped>\n",
       "    .dataframe tbody tr th:only-of-type {\n",
       "        vertical-align: middle;\n",
       "    }\n",
       "\n",
       "    .dataframe tbody tr th {\n",
       "        vertical-align: top;\n",
       "    }\n",
       "\n",
       "    .dataframe thead th {\n",
       "        text-align: right;\n",
       "    }\n",
       "</style>\n",
       "<table border=\"1\" class=\"dataframe\">\n",
       "  <thead>\n",
       "    <tr style=\"text-align: right;\">\n",
       "      <th></th>\n",
       "      <th>wkt</th>\n",
       "      <th>metadata_sensor</th>\n",
       "      <th>metadata_provider_asset_type</th>\n",
       "      <th>metadata_gsd</th>\n",
       "      <th>metadata_capture_date</th>\n",
       "      <th>metadata_off_nadir_angle</th>\n",
       "      <th>metadata_pan_resolution</th>\n",
       "      <th>metadata_sun_azimuth</th>\n",
       "      <th>metadata_sun_elevation</th>\n",
       "      <th>metadata_target_azimuth</th>\n",
       "      <th>...</th>\n",
       "      <th>metadata_catalog_id</th>\n",
       "      <th>metadata_original_width</th>\n",
       "      <th>metadata_original_height</th>\n",
       "      <th>metadata_width</th>\n",
       "      <th>metadata_height</th>\n",
       "      <th>metadata_id</th>\n",
       "      <th>metadata_img_name</th>\n",
       "      <th>properties_feature_type</th>\n",
       "      <th>properties_uid</th>\n",
       "      <th>properties_subtype</th>\n",
       "    </tr>\n",
       "  </thead>\n",
       "  <tbody>\n",
       "    <tr>\n",
       "      <th>0</th>\n",
       "      <td>POLYGON ((-118.7907960354536 34.02599963287881...</td>\n",
       "      <td>WORLDVIEW02</td>\n",
       "      <td>WORLDVIEW02</td>\n",
       "      <td>1.989496</td>\n",
       "      <td>2018-10-23T18:51:02.000Z</td>\n",
       "      <td>15.396526</td>\n",
       "      <td>0.498313</td>\n",
       "      <td>163.75761</td>\n",
       "      <td>42.6674</td>\n",
       "      <td>333.2746</td>\n",
       "      <td>...</td>\n",
       "      <td>1030010088D86900</td>\n",
       "      <td>1024</td>\n",
       "      <td>1024</td>\n",
       "      <td>1024</td>\n",
       "      <td>1024</td>\n",
       "      <td>MjU3NzkyNg.krKtoByLc6Nrelz_DPpxgNXTvS0</td>\n",
       "      <td>socal-fire_00001298_pre_disaster.png</td>\n",
       "      <td>building</td>\n",
       "      <td>be9a0ebd-ea5c-4127-b510-9545f832283b</td>\n",
       "      <td>NaN</td>\n",
       "    </tr>\n",
       "    <tr>\n",
       "      <th>1</th>\n",
       "      <td>POLYGON ((-118.7906623432389 34.02600158028667...</td>\n",
       "      <td>WORLDVIEW02</td>\n",
       "      <td>WORLDVIEW02</td>\n",
       "      <td>1.989496</td>\n",
       "      <td>2018-10-23T18:51:02.000Z</td>\n",
       "      <td>15.396526</td>\n",
       "      <td>0.498313</td>\n",
       "      <td>163.75761</td>\n",
       "      <td>42.6674</td>\n",
       "      <td>333.2746</td>\n",
       "      <td>...</td>\n",
       "      <td>1030010088D86900</td>\n",
       "      <td>1024</td>\n",
       "      <td>1024</td>\n",
       "      <td>1024</td>\n",
       "      <td>1024</td>\n",
       "      <td>MjU3NzkyNg.krKtoByLc6Nrelz_DPpxgNXTvS0</td>\n",
       "      <td>socal-fire_00001298_pre_disaster.png</td>\n",
       "      <td>building</td>\n",
       "      <td>b0ddd757-ba3d-4bbd-b3d2-ddfe4f608f38</td>\n",
       "      <td>NaN</td>\n",
       "    </tr>\n",
       "  </tbody>\n",
       "</table>\n",
       "<p>2 rows × 22 columns</p>\n",
       "</div>"
      ],
      "text/plain": [
       "                                                 wkt metadata_sensor   \n",
       "0  POLYGON ((-118.7907960354536 34.02599963287881...     WORLDVIEW02  \\\n",
       "1  POLYGON ((-118.7906623432389 34.02600158028667...     WORLDVIEW02   \n",
       "\n",
       "  metadata_provider_asset_type  metadata_gsd     metadata_capture_date   \n",
       "0                  WORLDVIEW02      1.989496  2018-10-23T18:51:02.000Z  \\\n",
       "1                  WORLDVIEW02      1.989496  2018-10-23T18:51:02.000Z   \n",
       "\n",
       "   metadata_off_nadir_angle  metadata_pan_resolution  metadata_sun_azimuth   \n",
       "0                 15.396526                 0.498313             163.75761  \\\n",
       "1                 15.396526                 0.498313             163.75761   \n",
       "\n",
       "   metadata_sun_elevation  metadata_target_azimuth  ... metadata_catalog_id   \n",
       "0                 42.6674                 333.2746  ...    1030010088D86900  \\\n",
       "1                 42.6674                 333.2746  ...    1030010088D86900   \n",
       "\n",
       "  metadata_original_width metadata_original_height  metadata_width   \n",
       "0                    1024                     1024            1024  \\\n",
       "1                    1024                     1024            1024   \n",
       "\n",
       "   metadata_height                             metadata_id   \n",
       "0             1024  MjU3NzkyNg.krKtoByLc6Nrelz_DPpxgNXTvS0  \\\n",
       "1             1024  MjU3NzkyNg.krKtoByLc6Nrelz_DPpxgNXTvS0   \n",
       "\n",
       "                      metadata_img_name properties_feature_type   \n",
       "0  socal-fire_00001298_pre_disaster.png                building  \\\n",
       "1  socal-fire_00001298_pre_disaster.png                building   \n",
       "\n",
       "                         properties_uid properties_subtype  \n",
       "0  be9a0ebd-ea5c-4127-b510-9545f832283b                NaN  \n",
       "1  b0ddd757-ba3d-4bbd-b3d2-ddfe4f608f38                NaN  \n",
       "\n",
       "[2 rows x 22 columns]"
      ]
     },
     "execution_count": 10,
     "metadata": {},
     "output_type": "execute_result"
    }
   ],
   "source": [
    "df_json_withmeta.head(2)\n",
    "#is each row a building?"
   ]
  },
  {
   "cell_type": "code",
   "execution_count": 11,
   "metadata": {},
   "outputs": [],
   "source": [
    "def count_files_in_folder(folder_path):\n",
    "    file_count = 0\n",
    "    for _, _, files in os.walk(folder_path):\n",
    "        file_count += len(files)\n",
    "    return file_count"
   ]
  },
  {
   "cell_type": "code",
   "execution_count": 12,
   "metadata": {},
   "outputs": [
    {
     "name": "stdout",
     "output_type": "stream",
     "text": [
      "Holdout has 277 images\n",
      "Test has 278 images\n",
      "Train has 816 images\n",
      "There are total of 1371 images\n"
     ]
    }
   ],
   "source": [
    "# number of files in the 'subset' folder\n",
    "\n",
    "#holdout\n",
    "num1 = count_files_in_folder('/Users/sevincjakab/neuefische_bootcamp/20230717-NewRepo-Capstone-Building_Damage/Capstone_Building_Damage/data/subset/holdout/images/')\n",
    "#test\n",
    "num2 = count_files_in_folder('/Users/sevincjakab/neuefische_bootcamp/20230717-NewRepo-Capstone-Building_Damage/Capstone_Building_Damage/data/subset/test/images/')\n",
    "#train\n",
    "num3 = count_files_in_folder('/Users/sevincjakab/neuefische_bootcamp/20230717-NewRepo-Capstone-Building_Damage/Capstone_Building_Damage/data/subset/training/images/')\n",
    "\n",
    "print(f\"Holdout has {num1} images\")\n",
    "print(f\"Test has {num2} images\")\n",
    "print(f\"Train has {num3} images\")\n",
    "print(f\"There are total of {num1+num2+num3} images\")"
   ]
  },
  {
   "cell_type": "code",
   "execution_count": 13,
   "metadata": {},
   "outputs": [],
   "source": [
    "# # Function to parse json columns\n",
    "# def parse_json_columns(df, json_columns):\n",
    "#     for col in json_columns:\n",
    "#         # Convert strings to dictionaries\n",
    "#         # df.loc[:, col] = df[col].apply(lambda json_: loads_safe(json_)) # This is where the issue arises\n",
    "#         # if n > 0:\n",
    "#         #     print(f\"{col!r} has {n} entries containing invalid JSON strings\")\n",
    "\n",
    "#         # Normalize the column and join it to the original DataFrame\n",
    "#         column_df = pd.json_normalize(df[col])\n",
    "#         column_df.columns = [f\"{col}_{sub_column}\" for sub_column in column_df.columns]\n",
    "#         df = df.drop(columns=[col]).join(column_df)\n",
    "#     return df"
   ]
  },
  {
   "cell_type": "code",
   "execution_count": 14,
   "metadata": {},
   "outputs": [],
   "source": [
    "# df_json_withmeta_copy = df_json_withmeta.copy()\n",
    "\n",
    "# json_cols = ['properties']"
   ]
  },
  {
   "cell_type": "code",
   "execution_count": 15,
   "metadata": {},
   "outputs": [],
   "source": [
    "# df_json_withmeta_copy = parse_json_columns(df_json_withmeta_copy, json_cols)\n",
    "\n",
    "# df_json_withmeta_copy.head(2)"
   ]
  },
  {
   "cell_type": "code",
   "execution_count": 16,
   "metadata": {},
   "outputs": [],
   "source": [
    "# Make a new function to display feature's unique information on top of the df.info()\n",
    "def show_info(df):\n",
    "    # Create initial information DataFrame\n",
    "    info_df = pd.DataFrame(df.dtypes, columns=[\"Dtype\"])\n",
    "    info_df[\"Non-Null Count\"] = df.count()\n",
    "\n",
    "    # Add N_unique and Unique columns\n",
    "    info_df[\"Unique Count\"] = df.nunique()\n",
    "    info_df[\"Unique Values\"] = df.apply(\n",
    "        lambda x: dict(x.value_counts()) if x.nunique() < 10 else \"\"\n",
    "    )\n",
    "    # lambda x: x.unique() if x.nunique() < 10 else f'{x.unique().min()} ... {x.unique().max()}')\n",
    "\n",
    "    # Reset the index\n",
    "    info_df.reset_index(inplace=True)\n",
    "    info_df.columns = [\n",
    "        \"Column\",\n",
    "        \"Dtype\",\n",
    "        \"Non-Null Count\",\n",
    "        \"Unique Count\",\n",
    "        \"Unique Values\",\n",
    "    ]\n",
    "\n",
    "    return info_df"
   ]
  },
  {
   "cell_type": "code",
   "execution_count": 17,
   "metadata": {},
   "outputs": [
    {
     "data": {
      "text/plain": [
       "46490"
      ]
     },
     "execution_count": 17,
     "metadata": {},
     "output_type": "execute_result"
    }
   ],
   "source": [
    "# number of rows in this df\n",
    "df_json_withmeta.shape[0]"
   ]
  },
  {
   "cell_type": "code",
   "execution_count": 18,
   "metadata": {},
   "outputs": [
    {
     "data": {
      "text/html": [
       "<div>\n",
       "<style scoped>\n",
       "    .dataframe tbody tr th:only-of-type {\n",
       "        vertical-align: middle;\n",
       "    }\n",
       "\n",
       "    .dataframe tbody tr th {\n",
       "        vertical-align: top;\n",
       "    }\n",
       "\n",
       "    .dataframe thead th {\n",
       "        text-align: right;\n",
       "    }\n",
       "</style>\n",
       "<table border=\"1\" class=\"dataframe\">\n",
       "  <thead>\n",
       "    <tr style=\"text-align: right;\">\n",
       "      <th></th>\n",
       "      <th>Column</th>\n",
       "      <th>Dtype</th>\n",
       "      <th>Non-Null Count</th>\n",
       "      <th>Unique Count</th>\n",
       "      <th>Unique Values</th>\n",
       "    </tr>\n",
       "  </thead>\n",
       "  <tbody>\n",
       "    <tr>\n",
       "      <th>0</th>\n",
       "      <td>wkt</td>\n",
       "      <td>object</td>\n",
       "      <td>46490</td>\n",
       "      <td>46262</td>\n",
       "      <td></td>\n",
       "    </tr>\n",
       "    <tr>\n",
       "      <th>1</th>\n",
       "      <td>metadata_sensor</td>\n",
       "      <td>object</td>\n",
       "      <td>46490</td>\n",
       "      <td>3</td>\n",
       "      <td>{'WORLDVIEW02': 24329, 'GEOEYE01': 17125, 'WOR...</td>\n",
       "    </tr>\n",
       "    <tr>\n",
       "      <th>2</th>\n",
       "      <td>metadata_provider_asset_type</td>\n",
       "      <td>object</td>\n",
       "      <td>46490</td>\n",
       "      <td>3</td>\n",
       "      <td>{'WORLDVIEW02': 24329, 'GEOEYE01': 17125, 'WOR...</td>\n",
       "    </tr>\n",
       "    <tr>\n",
       "      <th>3</th>\n",
       "      <td>metadata_gsd</td>\n",
       "      <td>float64</td>\n",
       "      <td>46490</td>\n",
       "      <td>42</td>\n",
       "      <td></td>\n",
       "    </tr>\n",
       "    <tr>\n",
       "      <th>4</th>\n",
       "      <td>metadata_capture_date</td>\n",
       "      <td>object</td>\n",
       "      <td>46490</td>\n",
       "      <td>42</td>\n",
       "      <td></td>\n",
       "    </tr>\n",
       "    <tr>\n",
       "      <th>5</th>\n",
       "      <td>metadata_off_nadir_angle</td>\n",
       "      <td>float64</td>\n",
       "      <td>46490</td>\n",
       "      <td>42</td>\n",
       "      <td></td>\n",
       "    </tr>\n",
       "    <tr>\n",
       "      <th>6</th>\n",
       "      <td>metadata_pan_resolution</td>\n",
       "      <td>float64</td>\n",
       "      <td>46490</td>\n",
       "      <td>42</td>\n",
       "      <td></td>\n",
       "    </tr>\n",
       "    <tr>\n",
       "      <th>7</th>\n",
       "      <td>metadata_sun_azimuth</td>\n",
       "      <td>float64</td>\n",
       "      <td>46490</td>\n",
       "      <td>42</td>\n",
       "      <td></td>\n",
       "    </tr>\n",
       "    <tr>\n",
       "      <th>8</th>\n",
       "      <td>metadata_sun_elevation</td>\n",
       "      <td>float64</td>\n",
       "      <td>46490</td>\n",
       "      <td>42</td>\n",
       "      <td></td>\n",
       "    </tr>\n",
       "    <tr>\n",
       "      <th>9</th>\n",
       "      <td>metadata_target_azimuth</td>\n",
       "      <td>float64</td>\n",
       "      <td>46490</td>\n",
       "      <td>42</td>\n",
       "      <td></td>\n",
       "    </tr>\n",
       "    <tr>\n",
       "      <th>10</th>\n",
       "      <td>metadata_disaster</td>\n",
       "      <td>object</td>\n",
       "      <td>46490</td>\n",
       "      <td>10</td>\n",
       "      <td></td>\n",
       "    </tr>\n",
       "    <tr>\n",
       "      <th>11</th>\n",
       "      <td>metadata_disaster_type</td>\n",
       "      <td>object</td>\n",
       "      <td>46490</td>\n",
       "      <td>6</td>\n",
       "      <td>{'wind': 10904, 'flooding': 10260, 'earthquake...</td>\n",
       "    </tr>\n",
       "    <tr>\n",
       "      <th>12</th>\n",
       "      <td>metadata_catalog_id</td>\n",
       "      <td>object</td>\n",
       "      <td>46490</td>\n",
       "      <td>42</td>\n",
       "      <td></td>\n",
       "    </tr>\n",
       "    <tr>\n",
       "      <th>13</th>\n",
       "      <td>metadata_original_width</td>\n",
       "      <td>int64</td>\n",
       "      <td>46490</td>\n",
       "      <td>2</td>\n",
       "      <td>{1024: 46236, 1025: 254}</td>\n",
       "    </tr>\n",
       "    <tr>\n",
       "      <th>14</th>\n",
       "      <td>metadata_original_height</td>\n",
       "      <td>int64</td>\n",
       "      <td>46490</td>\n",
       "      <td>2</td>\n",
       "      <td>{1024: 46236, 1025: 254}</td>\n",
       "    </tr>\n",
       "    <tr>\n",
       "      <th>15</th>\n",
       "      <td>metadata_width</td>\n",
       "      <td>int64</td>\n",
       "      <td>46490</td>\n",
       "      <td>1</td>\n",
       "      <td>{1024: 46490}</td>\n",
       "    </tr>\n",
       "    <tr>\n",
       "      <th>16</th>\n",
       "      <td>metadata_height</td>\n",
       "      <td>int64</td>\n",
       "      <td>46490</td>\n",
       "      <td>1</td>\n",
       "      <td>{1024: 46490}</td>\n",
       "    </tr>\n",
       "    <tr>\n",
       "      <th>17</th>\n",
       "      <td>metadata_id</td>\n",
       "      <td>object</td>\n",
       "      <td>46490</td>\n",
       "      <td>644</td>\n",
       "      <td></td>\n",
       "    </tr>\n",
       "    <tr>\n",
       "      <th>18</th>\n",
       "      <td>metadata_img_name</td>\n",
       "      <td>object</td>\n",
       "      <td>46490</td>\n",
       "      <td>644</td>\n",
       "      <td></td>\n",
       "    </tr>\n",
       "    <tr>\n",
       "      <th>19</th>\n",
       "      <td>properties_feature_type</td>\n",
       "      <td>object</td>\n",
       "      <td>46490</td>\n",
       "      <td>1</td>\n",
       "      <td>{'building': 46490}</td>\n",
       "    </tr>\n",
       "    <tr>\n",
       "      <th>20</th>\n",
       "      <td>properties_uid</td>\n",
       "      <td>object</td>\n",
       "      <td>46490</td>\n",
       "      <td>23245</td>\n",
       "      <td></td>\n",
       "    </tr>\n",
       "    <tr>\n",
       "      <th>21</th>\n",
       "      <td>properties_subtype</td>\n",
       "      <td>object</td>\n",
       "      <td>23245</td>\n",
       "      <td>5</td>\n",
       "      <td>{'no-damage': 17758, 'minor-damage': 2163, 'ma...</td>\n",
       "    </tr>\n",
       "  </tbody>\n",
       "</table>\n",
       "</div>"
      ],
      "text/plain": [
       "                          Column    Dtype  Non-Null Count  Unique Count   \n",
       "0                            wkt   object           46490         46262  \\\n",
       "1                metadata_sensor   object           46490             3   \n",
       "2   metadata_provider_asset_type   object           46490             3   \n",
       "3                   metadata_gsd  float64           46490            42   \n",
       "4          metadata_capture_date   object           46490            42   \n",
       "5       metadata_off_nadir_angle  float64           46490            42   \n",
       "6        metadata_pan_resolution  float64           46490            42   \n",
       "7           metadata_sun_azimuth  float64           46490            42   \n",
       "8         metadata_sun_elevation  float64           46490            42   \n",
       "9        metadata_target_azimuth  float64           46490            42   \n",
       "10             metadata_disaster   object           46490            10   \n",
       "11        metadata_disaster_type   object           46490             6   \n",
       "12           metadata_catalog_id   object           46490            42   \n",
       "13       metadata_original_width    int64           46490             2   \n",
       "14      metadata_original_height    int64           46490             2   \n",
       "15                metadata_width    int64           46490             1   \n",
       "16               metadata_height    int64           46490             1   \n",
       "17                   metadata_id   object           46490           644   \n",
       "18             metadata_img_name   object           46490           644   \n",
       "19       properties_feature_type   object           46490             1   \n",
       "20                properties_uid   object           46490         23245   \n",
       "21            properties_subtype   object           23245             5   \n",
       "\n",
       "                                        Unique Values  \n",
       "0                                                      \n",
       "1   {'WORLDVIEW02': 24329, 'GEOEYE01': 17125, 'WOR...  \n",
       "2   {'WORLDVIEW02': 24329, 'GEOEYE01': 17125, 'WOR...  \n",
       "3                                                      \n",
       "4                                                      \n",
       "5                                                      \n",
       "6                                                      \n",
       "7                                                      \n",
       "8                                                      \n",
       "9                                                      \n",
       "10                                                     \n",
       "11  {'wind': 10904, 'flooding': 10260, 'earthquake...  \n",
       "12                                                     \n",
       "13                           {1024: 46236, 1025: 254}  \n",
       "14                           {1024: 46236, 1025: 254}  \n",
       "15                                      {1024: 46490}  \n",
       "16                                      {1024: 46490}  \n",
       "17                                                     \n",
       "18                                                     \n",
       "19                                {'building': 46490}  \n",
       "20                                                     \n",
       "21  {'no-damage': 17758, 'minor-damage': 2163, 'ma...  "
      ]
     },
     "execution_count": 18,
     "metadata": {},
     "output_type": "execute_result"
    }
   ],
   "source": [
    "show_info(df_json_withmeta)\n",
    "\n",
    "#why are there 644 unique matadata ids, \n",
    "# although there are more than 800 images in train folder?"
   ]
  },
  {
   "cell_type": "code",
   "execution_count": 19,
   "metadata": {},
   "outputs": [
    {
     "data": {
      "text/plain": [
       "array([nan, 'no-damage', 'major-damage', 'minor-damage', 'un-classified',\n",
       "       'destroyed'], dtype=object)"
      ]
     },
     "execution_count": 19,
     "metadata": {},
     "output_type": "execute_result"
    }
   ],
   "source": [
    "df_json_withmeta['properties_subtype'].unique()\n",
    "\n",
    "# what is nan?"
   ]
  },
  {
   "cell_type": "code",
   "execution_count": 20,
   "metadata": {},
   "outputs": [
    {
     "data": {
      "text/plain": [
       "wkt                             0\n",
       "metadata_sensor                 0\n",
       "metadata_provider_asset_type    0\n",
       "metadata_gsd                    0\n",
       "metadata_capture_date           0\n",
       "metadata_off_nadir_angle        0\n",
       "metadata_pan_resolution         0\n",
       "metadata_sun_azimuth            0\n",
       "metadata_sun_elevation          0\n",
       "metadata_target_azimuth         0\n",
       "metadata_disaster               0\n",
       "metadata_disaster_type          0\n",
       "metadata_catalog_id             0\n",
       "metadata_original_width         0\n",
       "metadata_original_height        0\n",
       "metadata_width                  0\n",
       "metadata_height                 0\n",
       "metadata_id                     0\n",
       "metadata_img_name               0\n",
       "properties_feature_type         0\n",
       "properties_uid                  0\n",
       "properties_subtype              0\n",
       "dtype: int64"
      ]
     },
     "execution_count": 20,
     "metadata": {},
     "output_type": "execute_result"
    }
   ],
   "source": [
    "df_json_withmeta.query('properties_subtype == \"nan\"', engine='python').count()"
   ]
  },
  {
   "cell_type": "code",
   "execution_count": 21,
   "metadata": {},
   "outputs": [
    {
     "data": {
      "text/plain": [
       "wkt                             0\n",
       "metadata_sensor                 0\n",
       "metadata_provider_asset_type    0\n",
       "metadata_gsd                    0\n",
       "metadata_capture_date           0\n",
       "metadata_off_nadir_angle        0\n",
       "metadata_pan_resolution         0\n",
       "metadata_sun_azimuth            0\n",
       "metadata_sun_elevation          0\n",
       "metadata_target_azimuth         0\n",
       "metadata_disaster               0\n",
       "metadata_disaster_type          0\n",
       "metadata_catalog_id             0\n",
       "metadata_original_width         0\n",
       "metadata_original_height        0\n",
       "metadata_width                  0\n",
       "metadata_height                 0\n",
       "metadata_id                     0\n",
       "metadata_img_name               0\n",
       "properties_feature_type         0\n",
       "properties_uid                  0\n",
       "properties_subtype              0\n",
       "dtype: int64"
      ]
     },
     "execution_count": 21,
     "metadata": {},
     "output_type": "execute_result"
    }
   ],
   "source": [
    "df_json_withmeta.query('properties_subtype == \"NaN\"', engine='python').count()"
   ]
  },
  {
   "cell_type": "markdown",
   "metadata": {},
   "source": [
    "# 2- Remove the images with un-classified buildings"
   ]
  },
  {
   "cell_type": "code",
   "execution_count": 22,
   "metadata": {},
   "outputs": [
    {
     "name": "stdout",
     "output_type": "stream",
     "text": [
      "The 'un-classified' buildings do not belong to the same image.\n"
     ]
    }
   ],
   "source": [
    "#check if un-classified buildings belong to the same image\n",
    "is_same_image = df_json_withmeta[df_json_withmeta['properties_subtype'] == 'un-classified']['metadata_id'].nunique() == 1\n",
    "\n",
    "if is_same_image:\n",
    "    print(\"All 'un-classified' buildings belong to the same image.\")\n",
    "else:\n",
    "    print(\"The 'un-classified' buildings do not belong to the same image.\")\n"
   ]
  },
  {
   "cell_type": "code",
   "execution_count": 23,
   "metadata": {},
   "outputs": [
    {
     "data": {
      "text/plain": [
       "84"
      ]
     },
     "execution_count": 23,
     "metadata": {},
     "output_type": "execute_result"
    }
   ],
   "source": [
    "# check how many images have un-classified buildings --84\n",
    "df_json_withmeta[df_json_withmeta['properties_subtype'] == 'un-classified']['metadata_id'].nunique()"
   ]
  },
  {
   "cell_type": "code",
   "execution_count": 24,
   "metadata": {},
   "outputs": [],
   "source": [
    "# this function is not working. check again.\n",
    "def remove_unclassified(df):\n",
    "    '''\n",
    "    a function to remove unclassified json files and at the same time the \n",
    "    images that correspond to those json file\n",
    "    '''\n",
    "# Define the folder path\n",
    "    folder_path = '/Users/sevincjakab/neuefische_bootcamp/20230717-NewRepo-Capstone-Building_Damage/Capstone_Building_Damage/data/subset/training/images/'\n",
    "\n",
    "    # Filter the DataFrame and get the rows with 'properties_subtype' != 'un-classified'\n",
    "    filtered_df = df[~(df['properties_subtype'] == 'un-classified')]\n",
    "\n",
    "    # Get the list of image filenames to delete\n",
    "    images_to_delete = filtered_df['metadata_img_name'].tolist()\n",
    "\n",
    "    # Delete the corresponding images from the folder\n",
    "    for filename in images_to_delete:\n",
    "        file_path = os.path.join(folder_path, filename)\n",
    "        if os.path.exists(file_path):\n",
    "            os.remove(file_path)\n",
    "\n",
    "    # Assign the filtered DataFrame back to the original variable if desired\n",
    "    return filtered_df\n"
   ]
  },
  {
   "cell_type": "code",
   "execution_count": 25,
   "metadata": {},
   "outputs": [],
   "source": [
    "df_json_withmeta_copy = df_json_withmeta.copy()"
   ]
  },
  {
   "cell_type": "code",
   "execution_count": 26,
   "metadata": {},
   "outputs": [
    {
     "name": "stdout",
     "output_type": "stream",
     "text": [
      "<class 'pandas.core.frame.DataFrame'>\n",
      "RangeIndex: 46490 entries, 0 to 46489\n",
      "Data columns (total 22 columns):\n",
      " #   Column                        Non-Null Count  Dtype  \n",
      "---  ------                        --------------  -----  \n",
      " 0   wkt                           46490 non-null  object \n",
      " 1   metadata_sensor               46490 non-null  object \n",
      " 2   metadata_provider_asset_type  46490 non-null  object \n",
      " 3   metadata_gsd                  46490 non-null  float64\n",
      " 4   metadata_capture_date         46490 non-null  object \n",
      " 5   metadata_off_nadir_angle      46490 non-null  float64\n",
      " 6   metadata_pan_resolution       46490 non-null  float64\n",
      " 7   metadata_sun_azimuth          46490 non-null  float64\n",
      " 8   metadata_sun_elevation        46490 non-null  float64\n",
      " 9   metadata_target_azimuth       46490 non-null  float64\n",
      " 10  metadata_disaster             46490 non-null  object \n",
      " 11  metadata_disaster_type        46490 non-null  object \n",
      " 12  metadata_catalog_id           46490 non-null  object \n",
      " 13  metadata_original_width       46490 non-null  int64  \n",
      " 14  metadata_original_height      46490 non-null  int64  \n",
      " 15  metadata_width                46490 non-null  int64  \n",
      " 16  metadata_height               46490 non-null  int64  \n",
      " 17  metadata_id                   46490 non-null  object \n",
      " 18  metadata_img_name             46490 non-null  object \n",
      " 19  properties_feature_type       46490 non-null  object \n",
      " 20  properties_uid                46490 non-null  object \n",
      " 21  properties_subtype            23245 non-null  object \n",
      "dtypes: float64(6), int64(4), object(12)\n",
      "memory usage: 7.8+ MB\n"
     ]
    }
   ],
   "source": [
    "remove_unclassified(df_json_withmeta_copy)\n",
    "df_json_withmeta_copy.info()"
   ]
  },
  {
   "cell_type": "code",
   "execution_count": 27,
   "metadata": {},
   "outputs": [
    {
     "name": "stdout",
     "output_type": "stream",
     "text": [
      "Holdout has 277 images\n",
      "Test has 278 images\n",
      "Train has 816 images\n",
      "There are total of 1371 images\n"
     ]
    }
   ],
   "source": [
    "# number of files in the 'subset' folder after removing images with unclassified buildings\n",
    "\n",
    "#holdout\n",
    "num1 = count_files_in_folder('/Users/sevincjakab/neuefische_bootcamp/20230717-NewRepo-Capstone-Building_Damage/Capstone_Building_Damage/data/subset/holdout/images/')\n",
    "#test\n",
    "num2 = count_files_in_folder('/Users/sevincjakab/neuefische_bootcamp/20230717-NewRepo-Capstone-Building_Damage/Capstone_Building_Damage/data/subset/test/images/')\n",
    "#train\n",
    "num3 = count_files_in_folder('/Users/sevincjakab/neuefische_bootcamp/20230717-NewRepo-Capstone-Building_Damage/Capstone_Building_Damage/data/subset/training/images/')\n",
    "\n",
    "print(f\"Holdout has {num1} images\")\n",
    "print(f\"Test has {num2} images\")\n",
    "print(f\"Train has {num3} images\")\n",
    "print(f\"There are total of {num1+num2+num3} images\")"
   ]
  },
  {
   "cell_type": "markdown",
   "metadata": {},
   "source": [
    "# 3- Data Vis"
   ]
  },
  {
   "cell_type": "markdown",
   "metadata": {},
   "source": [
    "## 3.1 - Percentage of Class Labels Among Buildings"
   ]
  },
  {
   "cell_type": "code",
   "execution_count": 29,
   "metadata": {},
   "outputs": [
    {
     "data": {
      "image/png": "[encoded data removed]",
      "text/plain": [
       "<Figure size 640x480 with 1 Axes>"
      ]
     },
     "metadata": {},
     "output_type": "display_data"
    }
   ],
   "source": [
    "import pandas as pd\n",
    "import matplotlib.pyplot as plt\n",
    "\n",
    "# Assuming 'df' is your DataFrame with the 'properties_subtype' column\n",
    "\n",
    "# Calculate the value counts and percentages\n",
    "value_counts = df_json_withmeta['properties_subtype'].value_counts()\n",
    "percentages = value_counts / len(df_json_withmeta) * 100\n",
    "\n",
    "# Sort the values in descending order\n",
    "value_counts = value_counts.sort_values(ascending=False)\n",
    "percentages = percentages.loc[value_counts.index]\n",
    "\n",
    "# Create the bar plot\n",
    "plt.bar(value_counts.index, percentages)\n",
    "plt.xlabel('properties_subtype')\n",
    "plt.ylabel('Percentage')\n",
    "plt.title('Percentage of Different Labels Among All the Buildings')\n",
    "plt.xticks(rotation=90)\n",
    "plt.show()\n"
   ]
  },
  {
   "cell_type": "markdown",
   "metadata": {},
   "source": [
    "## 3.2 - Distribution of Number of Labels per Image"
   ]
  },
  {
   "cell_type": "code",
   "execution_count": 35,
   "metadata": {},
   "outputs": [
    {
     "name": "stdout",
     "output_type": "stream",
     "text": [
      "metadata_id\n",
      "MjU3ODM0Mw.BlJLwxsBP1cN8i9tCe7jqN9esEE    1188\n",
      "MjUxNDkyMA.-5_eONZwRP6J6E9ynr435Qx-Hck    1188\n",
      "MjM1ODM2Mw.fQzUAK2sdJziQGtnkWCFSZHN8s0    1157\n",
      "MjU4NTg4MA.0eKEtS-TDsWR3ihtb0rP_ZrM8tE    1157\n",
      "MjUxNDg5Mw.85pmYTKo0nu1BX17CKRZpiXPAfg     895\n",
      "                                          ... \n",
      "MjU3ODc2NA.IyUhBXmy77dWuhePrZ1UTfg0pbM       1\n",
      "MjU0NjY3MA.SBGrdYFZppulYS91-0NxuK7v6t4       1\n",
      "MjU4MDczMw.4jQgYLeqLx_y4ZAXyqQy7AIIXdk       1\n",
      "MjU0NjQ0Mw.DECXrvZyYdGWZ12rLS49jRoqpJk       1\n",
      "MjM1NDU2NA.l1wprrHcyZ2mh4HahMH_tDdYXEw       1\n",
      "Name: count, Length: 644, dtype: int64\n"
     ]
    }
   ],
   "source": [
    "# Calculate the count of each class label per image\n",
    "class_counts = df_json_withmeta.groupby('metadata_id')['properties_subtype'].value_counts()\n",
    "\n",
    "# Calculate the total count of each image\n",
    "image_counts = df_json_withmeta['metadata_id'].value_counts()\n",
    "\n",
    "# Calculate the ratio of each class label per image\n",
    "class_ratios = class_counts / image_counts\n",
    "\n",
    "print(image_counts)\n"
   ]
  },
  {
   "cell_type": "code",
   "execution_count": 53,
   "metadata": {},
   "outputs": [
    {
     "data": {
      "text/html": [
       "<div>\n",
       "<style scoped>\n",
       "    .dataframe tbody tr th:only-of-type {\n",
       "        vertical-align: middle;\n",
       "    }\n",
       "\n",
       "    .dataframe tbody tr th {\n",
       "        vertical-align: top;\n",
       "    }\n",
       "\n",
       "    .dataframe thead th {\n",
       "        text-align: right;\n",
       "    }\n",
       "</style>\n",
       "<table border=\"1\" class=\"dataframe\">\n",
       "  <thead>\n",
       "    <tr style=\"text-align: right;\">\n",
       "      <th></th>\n",
       "      <th>properties_subtype</th>\n",
       "    </tr>\n",
       "    <tr>\n",
       "      <th>metadata_id</th>\n",
       "      <th></th>\n",
       "    </tr>\n",
       "  </thead>\n",
       "  <tbody>\n",
       "    <tr>\n",
       "      <th>MjE5NzY3NA.G2L233qYhbu1Q5i8-USivIyHucE</th>\n",
       "      <td>0</td>\n",
       "    </tr>\n",
       "    <tr>\n",
       "      <th>MjE5NzY4Mg.5e81iZMCb09oBCBBBZhbhl_zRmI</th>\n",
       "      <td>0</td>\n",
       "    </tr>\n",
       "    <tr>\n",
       "      <th>MjE5NzY5MA.QeAWZDtqeDAElOJJh6w9-94kn1I</th>\n",
       "      <td>0</td>\n",
       "    </tr>\n",
       "    <tr>\n",
       "      <th>MjE5NzYzMQ.9xH295XtUmgcfZA7fZ0s-REIZG0</th>\n",
       "      <td>0</td>\n",
       "    </tr>\n",
       "    <tr>\n",
       "      <th>MjE5Nzc2NQ.Nw27ZW3s0F3CCmkrbN4983qk244</th>\n",
       "      <td>0</td>\n",
       "    </tr>\n",
       "    <tr>\n",
       "      <th>...</th>\n",
       "      <td>...</td>\n",
       "    </tr>\n",
       "    <tr>\n",
       "      <th>MjUyNjgzOQ.TVaFyds3CH-sU3XCHa4yPgKbFl8</th>\n",
       "      <td>3</td>\n",
       "    </tr>\n",
       "    <tr>\n",
       "      <th>MjUyNjkxMg.au3VGcczcsOVjfqYaE7LuA-Olfc</th>\n",
       "      <td>2</td>\n",
       "    </tr>\n",
       "    <tr>\n",
       "      <th>MjUyNjkxNg.7ST5YXmQu3cZ_QfZLJVtrvCA7Zs</th>\n",
       "      <td>3</td>\n",
       "    </tr>\n",
       "    <tr>\n",
       "      <th>MjUyNjkyMw.s8EQTjPaS3_r8GULrHOXCEgJM-k</th>\n",
       "      <td>1</td>\n",
       "    </tr>\n",
       "    <tr>\n",
       "      <th>MjUyNjkyNA.Wr2slUH06ETizFsRc8-8_NaLScs</th>\n",
       "      <td>2</td>\n",
       "    </tr>\n",
       "  </tbody>\n",
       "</table>\n",
       "<p>644 rows × 1 columns</p>\n",
       "</div>"
      ],
      "text/plain": [
       "                                        properties_subtype\n",
       "metadata_id                                               \n",
       "MjE5NzY3NA.G2L233qYhbu1Q5i8-USivIyHucE                   0\n",
       "MjE5NzY4Mg.5e81iZMCb09oBCBBBZhbhl_zRmI                   0\n",
       "MjE5NzY5MA.QeAWZDtqeDAElOJJh6w9-94kn1I                   0\n",
       "MjE5NzYzMQ.9xH295XtUmgcfZA7fZ0s-REIZG0                   0\n",
       "MjE5Nzc2NQ.Nw27ZW3s0F3CCmkrbN4983qk244                   0\n",
       "...                                                    ...\n",
       "MjUyNjgzOQ.TVaFyds3CH-sU3XCHa4yPgKbFl8                   3\n",
       "MjUyNjkxMg.au3VGcczcsOVjfqYaE7LuA-Olfc                   2\n",
       "MjUyNjkxNg.7ST5YXmQu3cZ_QfZLJVtrvCA7Zs                   3\n",
       "MjUyNjkyMw.s8EQTjPaS3_r8GULrHOXCEgJM-k                   1\n",
       "MjUyNjkyNA.Wr2slUH06ETizFsRc8-8_NaLScs                   2\n",
       "\n",
       "[644 rows x 1 columns]"
      ]
     },
     "execution_count": 53,
     "metadata": {},
     "output_type": "execute_result"
    }
   ],
   "source": [
    "# check if one image has more than 1 label\n",
    "unique_labels_per_image = df_json_withmeta.groupby('metadata_id')['properties_subtype'].nunique()\n",
    "num_labels = pd.DataFrame(unique_labels_per_image)\n",
    "num_labels"
   ]
  },
  {
   "cell_type": "code",
   "execution_count": 54,
   "metadata": {},
   "outputs": [
    {
     "data": {
      "text/plain": [
       "array([0, 4, 2, 1, 5, 3])"
      ]
     },
     "execution_count": 54,
     "metadata": {},
     "output_type": "execute_result"
    }
   ],
   "source": [
    "#how many different labels per one image \n",
    "num_labels['properties_subtype'].unique()"
   ]
  },
  {
   "cell_type": "code",
   "execution_count": 60,
   "metadata": {},
   "outputs": [
    {
     "data": {
      "text/plain": [
       "properties_subtype    206\n",
       "dtype: int64"
      ]
     },
     "execution_count": 60,
     "metadata": {},
     "output_type": "execute_result"
    }
   ],
   "source": [
    "# how many images have more than 1 label\n",
    "num_labels.query('properties_subtype > 1').count()"
   ]
  },
  {
   "cell_type": "code",
   "execution_count": 64,
   "metadata": {},
   "outputs": [
    {
     "data": {
      "text/plain": [
       "6"
      ]
     },
     "execution_count": 64,
     "metadata": {},
     "output_type": "execute_result"
    }
   ],
   "source": [
    "#all diaster types  --6\n",
    "df_json_withmeta['metadata_disaster_type'].nunique()"
   ]
  },
  {
   "cell_type": "code",
   "execution_count": 61,
   "metadata": {},
   "outputs": [
    {
     "name": "stdout",
     "output_type": "stream",
     "text": [
      "['wind' 'tsunami' 'fire' 'flooding' 'earthquake' 'volcano']\n"
     ]
    }
   ],
   "source": [
    "# which disasters have more than 1 class label per image --all 6\n",
    "# Group the DataFrame by 'metadata_id' and calculate the number of unique class labels per image\n",
    "unique_labels_per_image = df_json_withmeta.groupby('metadata_id')['properties_subtype'].nunique()\n",
    "\n",
    "# Filter the DataFrame to include only images with more than one unique label\n",
    "filtered_df = df_json_withmeta[df_json_withmeta['metadata_id'].isin(unique_labels_per_image[unique_labels_per_image > 1].index)]\n",
    "\n",
    "# Get the unique types of disaster for the filtered images\n",
    "unique_disaster_types = filtered_df['metadata_disaster_type'].unique()\n",
    "\n",
    "print(unique_disaster_types)"
   ]
  },
  {
   "cell_type": "code",
   "execution_count": 71,
   "metadata": {},
   "outputs": [
    {
     "data": {
      "image/png": "[encoded data removed]",
      "text/plain": [
       "<Figure size 640x480 with 1 Axes>"
      ]
     },
     "metadata": {},
     "output_type": "display_data"
    }
   ],
   "source": [
    "import pandas as pd\n",
    "import matplotlib.pyplot as plt\n",
    "\n",
    "# Assuming 'df' is your DataFrame containing 'metadata_id' and 'properties_subtype' columns\n",
    "\n",
    "# Group the DataFrame by 'metadata_id' and calculate the number of unique class labels per image\n",
    "class_label_counts = df_json_withmeta.groupby('metadata_id')['properties_subtype'].nunique()\n",
    "\n",
    "# Create the bar plot\n",
    "plt.bar(class_label_counts.index, class_label_counts, width =0.8, align ='center')\n",
    "plt.xlabel('metadata_id')\n",
    "plt.ylabel('Number of Class Labels')\n",
    "plt.title('Distribution of Number of Class Labels Among Images')\n",
    "# Remove x-axis tick labels\n",
    "plt.xticks([])\n",
    "\n",
    "plt.show()\n",
    "plt.show()\n"
   ]
  }
 ],
 "metadata": {
  "kernelspec": {
   "display_name": "Python 3",
   "language": "python",
   "name": "python3"
  },
  "language_info": {
   "codemirror_mode": {
    "name": "ipython",
    "version": 3
   },
   "file_extension": ".py",
   "mimetype": "text/x-python",
   "name": "python",
   "nbconvert_exporter": "python",
   "pygments_lexer": "ipython3",
   "version": "3.11.3"
  },
  "orig_nbformat": 4
 },
 "nbformat": 4,
 "nbformat_minor": 2
}
