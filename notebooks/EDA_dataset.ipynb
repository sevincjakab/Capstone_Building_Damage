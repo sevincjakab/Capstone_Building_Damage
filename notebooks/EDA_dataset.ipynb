{
 "cells": [
  {
   "cell_type": "markdown",
   "metadata": {},
   "source": [
    "# EDA dataset using json files pre- and post-disaster containing building polygons and damage level per building."
   ]
  },
  {
   "cell_type": "markdown",
   "metadata": {},
   "source": [
    "### Useful Links"
   ]
  },
  {
   "cell_type": "markdown",
   "metadata": {},
   "source": [
    "**Check json in advance visually**   \n",
    " [View \"intended\" JSON](https://xml-json.kwebpia.net/?state=%7B%22ids%22:%5B%221Mj2srr9nVnj3_-BP2WkWkBdD3PH5qwKe%22%5D,%22action%22:%22open%22,%22resourceKeys%22:%7B%7D%7D)  \n",
    "  \n",
    "**Check JSON as table with converter**   \n",
    " [Online converter JSON to CSV/Excel](https://www.convertcsv.com/json-to-csv.htm)"
   ]
  },
  {
   "cell_type": "markdown",
   "metadata": {},
   "source": [
    "In the following we read all post-disaster JSON files from the specified folder and create a DataFrame where each building becomes a row in the DataFrame, and each key-value pair in the JSON file becomes a column in the DataFrame."
   ]
  },
  {
   "cell_type": "code",
   "execution_count": 66,
   "metadata": {},
   "outputs": [],
   "source": [
    "# load libraries\n",
    "import os\n",
    "import pandas as pd\n",
    "import json\n",
    "import numpy as np\n",
    "import matplotlib.pyplot as plt\n",
    "import seaborn as sns"
   ]
  },
  {
   "cell_type": "code",
   "execution_count": 67,
   "metadata": {},
   "outputs": [],
   "source": [
    "# THIS FUNCTION READS ONLY THE POST-DISASTER FILES and include more than 1 path (train, test...)\n",
    "# this function creates a dataframe with each column being a building \n",
    "#the dataframe contains all the buildings of all the files in all folders specified in folder_path_list \n",
    "\n",
    "\n",
    "def json_to_dataframe_with_metadata_by_building(folder_path_list):\n",
    "    '''\n",
    "    This function converts json files that carry the class labels into\n",
    "    data frame and at the same time decodes the json column into individual columns\n",
    "    including the metadata.\n",
    "    Args:\n",
    "        folder_path_list (~list): A list with path to directories where json files are stored\n",
    "        \n",
    "    Returns:\n",
    "        df (~pandas.dataframe): each row corresponds to one building. Different information contained in json file is stored in \n",
    "        the different columns of this dataframe.\n",
    "        \n",
    "        images_no_buildings (~ list): list of image names with no buildings annotations associated.\n",
    "    '''\n",
    "    data = []\n",
    "    metadata_columns = []  # List to store metadata for each file\n",
    "    images_no_buildings = [] \n",
    "    for folder_path in folder_path_list:\n",
    "        for filename in os.listdir(folder_path):\n",
    "            if filename.endswith(\".json\") and \"post_disaster\" in filename:\n",
    "                image_name=filename.split(\".\")[0]+\".png\"\n",
    "                file_path = os.path.join(folder_path, filename)\n",
    "                with open(file_path, \"r\") as file:\n",
    "                    json_data = json.load(file)\n",
    "\n",
    "                    # Extract metadata from the JSON file\n",
    "                    metadata = json_data.get(\"metadata\", {})  # Replace \"metadata\" with the correct key name for metadata\n",
    "                    metadata_prefixed = {f\"metadata_{key}\": value for key, value in metadata.items()}\n",
    "                    metadata_columns.append(metadata_prefixed)  # Append metadata to the list\n",
    "\n",
    "                    # Append \"lng_lat\" data to the data list\n",
    "                    lng_lat = json_data[\"features\"][\"lng_lat\"]\n",
    "                    if lng_lat:\n",
    "                        for item in lng_lat:\n",
    "                            properties_prefixed = {f\"properties_{key}\": value for key, value in item[\"properties\"].items()}\n",
    "                            item.update(metadata_prefixed)  # Add metadata to each \"lng_lat\" item\n",
    "                            item.update(properties_prefixed)  # Add properties with prefix to each \"lng_lat\" item\n",
    "                            \n",
    "                            data.append(item)\n",
    "                    else:\n",
    "                        # saving image names associated to json files with no building annotations\n",
    "                        images_no_buildings.append(image_name)\n",
    "\n",
    "\n",
    "                    \n",
    "    # Create a DataFrame\n",
    "    df = pd.DataFrame(data)\n",
    "    \n",
    "    return df,images_no_buildings\n",
    "\n"
   ]
  },
  {
   "cell_type": "code",
   "execution_count": 68,
   "metadata": {},
   "outputs": [],
   "source": [
    "# small function to count the files in a folder\n",
    "def count_files_in_folder(folder_path):\n",
    "    file_count = 0\n",
    "    for _, _, files in os.walk(folder_path):\n",
    "        file_count += len(files)\n",
    "    return file_count"
   ]
  },
  {
   "cell_type": "code",
   "execution_count": 69,
   "metadata": {},
   "outputs": [],
   "source": [
    "# path to xView2 challenge data. the file train contains 2 folders: images and labels. \n",
    "#Images contains png satellite images pre- and post-disaster\n",
    "#labels contains json files pre- and post-disaster \n",
    "\n",
    "# path to json files \n",
    "folder_path_train = \"../data/last_subset/train/labels\"\n",
    "\n",
    "# creating dataframe and list with image names with no building annotations.\n",
    "df_json_withmeta_by_building,images_no_buildings = json_to_dataframe_with_metadata_by_building([folder_path_train])\n",
    "\n",
    "df = df_json_withmeta_by_building.copy()"
   ]
  },
  {
   "cell_type": "code",
   "execution_count": 70,
   "metadata": {},
   "outputs": [
    {
     "name": "stdout",
     "output_type": "stream",
     "text": [
      "images with no building annotations:  326\n"
     ]
    }
   ],
   "source": [
    "print(\"images with no building annotations: \",len(images_no_buildings))"
   ]
  },
  {
   "cell_type": "code",
   "execution_count": 71,
   "metadata": {},
   "outputs": [
    {
     "data": {
      "text/plain": [
       "Index(['properties', 'wkt', 'metadata_sensor', 'metadata_provider_asset_type',\n",
       "       'metadata_gsd', 'metadata_capture_date', 'metadata_off_nadir_angle',\n",
       "       'metadata_pan_resolution', 'metadata_sun_azimuth',\n",
       "       'metadata_sun_elevation', 'metadata_target_azimuth',\n",
       "       'metadata_disaster', 'metadata_disaster_type', 'metadata_catalog_id',\n",
       "       'metadata_original_width', 'metadata_original_height', 'metadata_width',\n",
       "       'metadata_height', 'metadata_id', 'metadata_img_name',\n",
       "       'properties_feature_type', 'properties_subtype', 'properties_uid'],\n",
       "      dtype='object')"
      ]
     },
     "execution_count": 71,
     "metadata": {},
     "output_type": "execute_result"
    }
   ],
   "source": [
    "df.columns"
   ]
  },
  {
   "cell_type": "code",
   "execution_count": 72,
   "metadata": {},
   "outputs": [
    {
     "data": {
      "text/plain": [
       "array(['midwest-flooding', 'santa-rosa-wildfire', 'mexico-earthquake',\n",
       "       'hurricane-matthew', 'socal-fire', 'hurricane-michael',\n",
       "       'hurricane-florence', 'hurricane-harvey', 'guatemala-volcano',\n",
       "       'palu-tsunami'], dtype=object)"
      ]
     },
     "execution_count": 72,
     "metadata": {},
     "output_type": "execute_result"
    }
   ],
   "source": [
    "# all disaster names contained in this dataset\n",
    "df[\"metadata_disaster\"].unique()"
   ]
  },
  {
   "cell_type": "code",
   "execution_count": 73,
   "metadata": {},
   "outputs": [
    {
     "data": {
      "text/html": [
       "<div>\n",
       "<style scoped>\n",
       "    .dataframe tbody tr th:only-of-type {\n",
       "        vertical-align: middle;\n",
       "    }\n",
       "\n",
       "    .dataframe tbody tr th {\n",
       "        vertical-align: top;\n",
       "    }\n",
       "\n",
       "    .dataframe thead th {\n",
       "        text-align: right;\n",
       "    }\n",
       "</style>\n",
       "<table border=\"1\" class=\"dataframe\">\n",
       "  <thead>\n",
       "    <tr style=\"text-align: right;\">\n",
       "      <th></th>\n",
       "      <th>properties</th>\n",
       "      <th>wkt</th>\n",
       "      <th>metadata_sensor</th>\n",
       "      <th>metadata_provider_asset_type</th>\n",
       "      <th>metadata_gsd</th>\n",
       "      <th>metadata_capture_date</th>\n",
       "      <th>metadata_off_nadir_angle</th>\n",
       "      <th>metadata_pan_resolution</th>\n",
       "      <th>metadata_sun_azimuth</th>\n",
       "      <th>metadata_sun_elevation</th>\n",
       "      <th>...</th>\n",
       "      <th>metadata_catalog_id</th>\n",
       "      <th>metadata_original_width</th>\n",
       "      <th>metadata_original_height</th>\n",
       "      <th>metadata_width</th>\n",
       "      <th>metadata_height</th>\n",
       "      <th>metadata_id</th>\n",
       "      <th>metadata_img_name</th>\n",
       "      <th>properties_feature_type</th>\n",
       "      <th>properties_subtype</th>\n",
       "      <th>properties_uid</th>\n",
       "    </tr>\n",
       "  </thead>\n",
       "  <tbody>\n",
       "    <tr>\n",
       "      <th>291</th>\n",
       "      <td>{'feature_type': 'building', 'subtype': 'no-da...</td>\n",
       "      <td>POLYGON ((-118.7210512208106 34.11601785960978...</td>\n",
       "      <td>WORLDVIEW02</td>\n",
       "      <td>WORLDVIEW02</td>\n",
       "      <td>2.570075</td>\n",
       "      <td>2018-11-14T18:42:58.000Z</td>\n",
       "      <td>32.6742</td>\n",
       "      <td>0.643838</td>\n",
       "      <td>163.31218</td>\n",
       "      <td>35.885086</td>\n",
       "      <td>...</td>\n",
       "      <td>103001008513F200</td>\n",
       "      <td>1024</td>\n",
       "      <td>1024</td>\n",
       "      <td>1024</td>\n",
       "      <td>1024</td>\n",
       "      <td>MjU4MDk1OQ.HXy_9lOcouyMO5bfyV6xGrEFSyQ</td>\n",
       "      <td>socal-fire_00001292_post_disaster.png</td>\n",
       "      <td>building</td>\n",
       "      <td>no-damage</td>\n",
       "      <td>eee86ea4-d5f0-4136-8c50-ac68fb76c88c</td>\n",
       "    </tr>\n",
       "    <tr>\n",
       "      <th>292</th>\n",
       "      <td>{'feature_type': 'building', 'subtype': 'no-da...</td>\n",
       "      <td>POLYGON ((-118.7205957356535 34.11634024476129...</td>\n",
       "      <td>WORLDVIEW02</td>\n",
       "      <td>WORLDVIEW02</td>\n",
       "      <td>2.570075</td>\n",
       "      <td>2018-11-14T18:42:58.000Z</td>\n",
       "      <td>32.6742</td>\n",
       "      <td>0.643838</td>\n",
       "      <td>163.31218</td>\n",
       "      <td>35.885086</td>\n",
       "      <td>...</td>\n",
       "      <td>103001008513F200</td>\n",
       "      <td>1024</td>\n",
       "      <td>1024</td>\n",
       "      <td>1024</td>\n",
       "      <td>1024</td>\n",
       "      <td>MjU4MDk1OQ.HXy_9lOcouyMO5bfyV6xGrEFSyQ</td>\n",
       "      <td>socal-fire_00001292_post_disaster.png</td>\n",
       "      <td>building</td>\n",
       "      <td>no-damage</td>\n",
       "      <td>85756eff-12aa-4b78-aad6-c363e0fddb1d</td>\n",
       "    </tr>\n",
       "    <tr>\n",
       "      <th>293</th>\n",
       "      <td>{'feature_type': 'building', 'subtype': 'no-da...</td>\n",
       "      <td>POLYGON ((-118.7205353206631 34.11643627497856...</td>\n",
       "      <td>WORLDVIEW02</td>\n",
       "      <td>WORLDVIEW02</td>\n",
       "      <td>2.570075</td>\n",
       "      <td>2018-11-14T18:42:58.000Z</td>\n",
       "      <td>32.6742</td>\n",
       "      <td>0.643838</td>\n",
       "      <td>163.31218</td>\n",
       "      <td>35.885086</td>\n",
       "      <td>...</td>\n",
       "      <td>103001008513F200</td>\n",
       "      <td>1024</td>\n",
       "      <td>1024</td>\n",
       "      <td>1024</td>\n",
       "      <td>1024</td>\n",
       "      <td>MjU4MDk1OQ.HXy_9lOcouyMO5bfyV6xGrEFSyQ</td>\n",
       "      <td>socal-fire_00001292_post_disaster.png</td>\n",
       "      <td>building</td>\n",
       "      <td>no-damage</td>\n",
       "      <td>6771b72a-fbea-4851-9485-122b321a381e</td>\n",
       "    </tr>\n",
       "    <tr>\n",
       "      <th>294</th>\n",
       "      <td>{'feature_type': 'building', 'subtype': 'no-da...</td>\n",
       "      <td>POLYGON ((-118.7205690583199 34.11660141435606...</td>\n",
       "      <td>WORLDVIEW02</td>\n",
       "      <td>WORLDVIEW02</td>\n",
       "      <td>2.570075</td>\n",
       "      <td>2018-11-14T18:42:58.000Z</td>\n",
       "      <td>32.6742</td>\n",
       "      <td>0.643838</td>\n",
       "      <td>163.31218</td>\n",
       "      <td>35.885086</td>\n",
       "      <td>...</td>\n",
       "      <td>103001008513F200</td>\n",
       "      <td>1024</td>\n",
       "      <td>1024</td>\n",
       "      <td>1024</td>\n",
       "      <td>1024</td>\n",
       "      <td>MjU4MDk1OQ.HXy_9lOcouyMO5bfyV6xGrEFSyQ</td>\n",
       "      <td>socal-fire_00001292_post_disaster.png</td>\n",
       "      <td>building</td>\n",
       "      <td>no-damage</td>\n",
       "      <td>309c63c1-aa92-49eb-bd0b-e00a91707007</td>\n",
       "    </tr>\n",
       "    <tr>\n",
       "      <th>295</th>\n",
       "      <td>{'feature_type': 'building', 'subtype': 'no-da...</td>\n",
       "      <td>POLYGON ((-118.7202675154542 34.11670346230449...</td>\n",
       "      <td>WORLDVIEW02</td>\n",
       "      <td>WORLDVIEW02</td>\n",
       "      <td>2.570075</td>\n",
       "      <td>2018-11-14T18:42:58.000Z</td>\n",
       "      <td>32.6742</td>\n",
       "      <td>0.643838</td>\n",
       "      <td>163.31218</td>\n",
       "      <td>35.885086</td>\n",
       "      <td>...</td>\n",
       "      <td>103001008513F200</td>\n",
       "      <td>1024</td>\n",
       "      <td>1024</td>\n",
       "      <td>1024</td>\n",
       "      <td>1024</td>\n",
       "      <td>MjU4MDk1OQ.HXy_9lOcouyMO5bfyV6xGrEFSyQ</td>\n",
       "      <td>socal-fire_00001292_post_disaster.png</td>\n",
       "      <td>building</td>\n",
       "      <td>no-damage</td>\n",
       "      <td>f42ecd51-41e9-4b0f-bcbd-93344ac30e0d</td>\n",
       "    </tr>\n",
       "  </tbody>\n",
       "</table>\n",
       "<p>5 rows × 23 columns</p>\n",
       "</div>"
      ],
      "text/plain": [
       "                                            properties  \\\n",
       "291  {'feature_type': 'building', 'subtype': 'no-da...   \n",
       "292  {'feature_type': 'building', 'subtype': 'no-da...   \n",
       "293  {'feature_type': 'building', 'subtype': 'no-da...   \n",
       "294  {'feature_type': 'building', 'subtype': 'no-da...   \n",
       "295  {'feature_type': 'building', 'subtype': 'no-da...   \n",
       "\n",
       "                                                   wkt metadata_sensor  \\\n",
       "291  POLYGON ((-118.7210512208106 34.11601785960978...     WORLDVIEW02   \n",
       "292  POLYGON ((-118.7205957356535 34.11634024476129...     WORLDVIEW02   \n",
       "293  POLYGON ((-118.7205353206631 34.11643627497856...     WORLDVIEW02   \n",
       "294  POLYGON ((-118.7205690583199 34.11660141435606...     WORLDVIEW02   \n",
       "295  POLYGON ((-118.7202675154542 34.11670346230449...     WORLDVIEW02   \n",
       "\n",
       "    metadata_provider_asset_type  metadata_gsd     metadata_capture_date  \\\n",
       "291                  WORLDVIEW02      2.570075  2018-11-14T18:42:58.000Z   \n",
       "292                  WORLDVIEW02      2.570075  2018-11-14T18:42:58.000Z   \n",
       "293                  WORLDVIEW02      2.570075  2018-11-14T18:42:58.000Z   \n",
       "294                  WORLDVIEW02      2.570075  2018-11-14T18:42:58.000Z   \n",
       "295                  WORLDVIEW02      2.570075  2018-11-14T18:42:58.000Z   \n",
       "\n",
       "     metadata_off_nadir_angle  metadata_pan_resolution  metadata_sun_azimuth  \\\n",
       "291                   32.6742                 0.643838             163.31218   \n",
       "292                   32.6742                 0.643838             163.31218   \n",
       "293                   32.6742                 0.643838             163.31218   \n",
       "294                   32.6742                 0.643838             163.31218   \n",
       "295                   32.6742                 0.643838             163.31218   \n",
       "\n",
       "     metadata_sun_elevation  ...  metadata_catalog_id metadata_original_width  \\\n",
       "291               35.885086  ...     103001008513F200                    1024   \n",
       "292               35.885086  ...     103001008513F200                    1024   \n",
       "293               35.885086  ...     103001008513F200                    1024   \n",
       "294               35.885086  ...     103001008513F200                    1024   \n",
       "295               35.885086  ...     103001008513F200                    1024   \n",
       "\n",
       "    metadata_original_height metadata_width  metadata_height  \\\n",
       "291                     1024           1024             1024   \n",
       "292                     1024           1024             1024   \n",
       "293                     1024           1024             1024   \n",
       "294                     1024           1024             1024   \n",
       "295                     1024           1024             1024   \n",
       "\n",
       "                                metadata_id  \\\n",
       "291  MjU4MDk1OQ.HXy_9lOcouyMO5bfyV6xGrEFSyQ   \n",
       "292  MjU4MDk1OQ.HXy_9lOcouyMO5bfyV6xGrEFSyQ   \n",
       "293  MjU4MDk1OQ.HXy_9lOcouyMO5bfyV6xGrEFSyQ   \n",
       "294  MjU4MDk1OQ.HXy_9lOcouyMO5bfyV6xGrEFSyQ   \n",
       "295  MjU4MDk1OQ.HXy_9lOcouyMO5bfyV6xGrEFSyQ   \n",
       "\n",
       "                         metadata_img_name  properties_feature_type  \\\n",
       "291  socal-fire_00001292_post_disaster.png                 building   \n",
       "292  socal-fire_00001292_post_disaster.png                 building   \n",
       "293  socal-fire_00001292_post_disaster.png                 building   \n",
       "294  socal-fire_00001292_post_disaster.png                 building   \n",
       "295  socal-fire_00001292_post_disaster.png                 building   \n",
       "\n",
       "    properties_subtype                        properties_uid  \n",
       "291          no-damage  eee86ea4-d5f0-4136-8c50-ac68fb76c88c  \n",
       "292          no-damage  85756eff-12aa-4b78-aad6-c363e0fddb1d  \n",
       "293          no-damage  6771b72a-fbea-4851-9485-122b321a381e  \n",
       "294          no-damage  309c63c1-aa92-49eb-bd0b-e00a91707007  \n",
       "295          no-damage  f42ecd51-41e9-4b0f-bcbd-93344ac30e0d  \n",
       "\n",
       "[5 rows x 23 columns]"
      ]
     },
     "execution_count": 73,
     "metadata": {},
     "output_type": "execute_result"
    }
   ],
   "source": [
    "# looking at one particular disaster (socal-fire) and its information per building\n",
    "df[df[\"metadata_disaster\"] == \"socal-fire\"].head()"
   ]
  },
  {
   "cell_type": "code",
   "execution_count": 74,
   "metadata": {},
   "outputs": [
    {
     "data": {
      "text/plain": [
       "array(['flooding', 'fire', 'earthquake', 'wind', 'volcano', 'tsunami'],\n",
       "      dtype=object)"
      ]
     },
     "execution_count": 74,
     "metadata": {},
     "output_type": "execute_result"
    }
   ],
   "source": [
    "# the disaster types of this dataset\n",
    "df[\"metadata_disaster_type\"].unique()\n"
   ]
  },
  {
   "cell_type": "code",
   "execution_count": 75,
   "metadata": {},
   "outputs": [
    {
     "name": "stdout",
     "output_type": "stream",
     "text": [
      "post-disaster images:  1679\n",
      "pre and post disaster images:  3358\n"
     ]
    }
   ],
   "source": [
    "# checking the number of images in dataset (4665 - train+test), (11034 - train+test+tier3)\n",
    "images = []\n",
    "for filename in os.listdir(folder_path_train):\n",
    "            if filename.endswith(\".json\") and \"post_disaster\" in filename:\n",
    "                    images.append(filename.split(\".\")[0]+\".png\")\n",
    " \n",
    " \n",
    "\n",
    "print(\"post-disaster images: \",len(images))  \n",
    "# the following counts the total of files, that includes pre and post images\n",
    "print(\"pre and post disaster images: \",count_files_in_folder(folder_path_train))                                 "
   ]
  },
  {
   "cell_type": "code",
   "execution_count": 76,
   "metadata": {},
   "outputs": [
    {
     "name": "stdout",
     "output_type": "stream",
     "text": [
      "properties                      {'feature_type': 'building', 'subtype': 'no-da...\n",
      "wkt                             POLYGON ((-96.34957745831451 36.12314894215551...\n",
      "metadata_sensor                                                  WORLDVIEW03_VNIR\n",
      "metadata_provider_asset_type                                     WORLDVIEW03_VNIR\n",
      "metadata_gsd                                                              1.25246\n",
      "metadata_capture_date                                    2019-05-30T17:35:04.000Z\n",
      "metadata_off_nadir_angle                                                 7.110581\n",
      "metadata_pan_resolution                                                  0.313106\n",
      "metadata_sun_azimuth                                                    140.67555\n",
      "metadata_sun_elevation                                                   72.39723\n",
      "metadata_target_azimuth                                                  2.891011\n",
      "metadata_disaster                                                midwest-flooding\n",
      "metadata_disaster_type                                                   flooding\n",
      "metadata_catalog_id                                              104001004BC65000\n",
      "metadata_original_width                                                      1024\n",
      "metadata_original_height                                                     1024\n",
      "metadata_width                                                               1024\n",
      "metadata_height                                                              1024\n",
      "metadata_id                                MjU1NTAxMw.F-vUm_DWmtDa1eQXR8qwb8Dh1Mw\n",
      "metadata_img_name                     midwest-flooding_00000308_post_disaster.png\n",
      "properties_feature_type                                                  building\n",
      "properties_subtype                                                      no-damage\n",
      "properties_uid                               4ac81fae-312a-4050-bd41-92f677311b09\n",
      "Name: 1, dtype: object\n",
      "POLYGON ((-96.34957745831451 36.12314894215551, -96.34952969718358 36.12314725896533, -96.34952147209218 36.12313956819872, -96.34952368049049 36.12307391636603, -96.34958218902402 36.12307708895391, -96.34957745831451 36.12314894215551))\n",
      "(23,)\n",
      "(101864, 23)\n"
     ]
    }
   ],
   "source": [
    "# check values columns and dimensions\n",
    "# one building (row)\n",
    "print(df_json_withmeta_by_building.iloc[1])\n",
    "# the polygon of the building\n",
    "print(df_json_withmeta_by_building.iloc[1][1])\n",
    "# 23 features\n",
    "print(df_json_withmeta_by_building.iloc[1].shape)\n",
    "# 101864 buildings, each with 23 features\n",
    "print(df_json_withmeta_by_building.shape)"
   ]
  },
  {
   "cell_type": "code",
   "execution_count": 77,
   "metadata": {},
   "outputs": [],
   "source": [
    "# drop the properties column (already in the features)\n",
    "df.drop('properties', axis=1, inplace=True) # inplace=True makes sure the original dataframe is changed!"
   ]
  },
  {
   "cell_type": "code",
   "execution_count": 78,
   "metadata": {},
   "outputs": [
    {
     "name": "stdout",
     "output_type": "stream",
     "text": [
      "<class 'pandas.core.frame.DataFrame'>\n",
      "RangeIndex: 101864 entries, 0 to 101863\n",
      "Data columns (total 22 columns):\n",
      " #   Column                        Non-Null Count   Dtype  \n",
      "---  ------                        --------------   -----  \n",
      " 0   wkt                           101864 non-null  object \n",
      " 1   metadata_sensor               101864 non-null  object \n",
      " 2   metadata_provider_asset_type  101864 non-null  object \n",
      " 3   metadata_gsd                  101864 non-null  float64\n",
      " 4   metadata_capture_date         101864 non-null  object \n",
      " 5   metadata_off_nadir_angle      101864 non-null  float64\n",
      " 6   metadata_pan_resolution       101864 non-null  float64\n",
      " 7   metadata_sun_azimuth          101864 non-null  float64\n",
      " 8   metadata_sun_elevation        101864 non-null  float64\n",
      " 9   metadata_target_azimuth       101864 non-null  float64\n",
      " 10  metadata_disaster             101864 non-null  object \n",
      " 11  metadata_disaster_type        101864 non-null  object \n",
      " 12  metadata_catalog_id           101864 non-null  object \n",
      " 13  metadata_original_width       101864 non-null  int64  \n",
      " 14  metadata_original_height      101864 non-null  int64  \n",
      " 15  metadata_width                101864 non-null  int64  \n",
      " 16  metadata_height               101864 non-null  int64  \n",
      " 17  metadata_id                   101864 non-null  object \n",
      " 18  metadata_img_name             101864 non-null  object \n",
      " 19  properties_feature_type       101864 non-null  object \n",
      " 20  properties_subtype            101864 non-null  object \n",
      " 21  properties_uid                101864 non-null  object \n",
      "dtypes: float64(6), int64(4), object(12)\n",
      "memory usage: 17.1+ MB\n"
     ]
    }
   ],
   "source": [
    "df.info() "
   ]
  },
  {
   "cell_type": "code",
   "execution_count": 79,
   "metadata": {},
   "outputs": [
    {
     "data": {
      "text/plain": [
       "Index(['wkt', 'metadata_sensor', 'metadata_provider_asset_type',\n",
       "       'metadata_gsd', 'metadata_capture_date', 'metadata_off_nadir_angle',\n",
       "       'metadata_pan_resolution', 'metadata_sun_azimuth',\n",
       "       'metadata_sun_elevation', 'metadata_target_azimuth',\n",
       "       'metadata_disaster', 'metadata_disaster_type', 'metadata_catalog_id',\n",
       "       'metadata_original_width', 'metadata_original_height', 'metadata_width',\n",
       "       'metadata_height', 'metadata_id', 'metadata_img_name',\n",
       "       'properties_feature_type', 'properties_subtype', 'properties_uid'],\n",
       "      dtype='object')"
      ]
     },
     "execution_count": 79,
     "metadata": {},
     "output_type": "execute_result"
    }
   ],
   "source": [
    "# definitive columns\n",
    "df.columns"
   ]
  },
  {
   "cell_type": "code",
   "execution_count": 80,
   "metadata": {},
   "outputs": [
    {
     "name": "stdout",
     "output_type": "stream",
     "text": [
      "101864\n",
      "101864\n"
     ]
    }
   ],
   "source": [
    "# checking the uid of each building is unique (it is, equal to the length of df)\n",
    "print(df[\"properties_uid\"].nunique())\n",
    "print(len(df))\n"
   ]
  },
  {
   "cell_type": "code",
   "execution_count": 81,
   "metadata": {},
   "outputs": [
    {
     "name": "stdout",
     "output_type": "stream",
     "text": [
      "n images with no building annotation:  326\n"
     ]
    },
    {
     "data": {
      "text/html": [
       "<div>\n",
       "<style scoped>\n",
       "    .dataframe tbody tr th:only-of-type {\n",
       "        vertical-align: middle;\n",
       "    }\n",
       "\n",
       "    .dataframe tbody tr th {\n",
       "        vertical-align: top;\n",
       "    }\n",
       "\n",
       "    .dataframe thead th {\n",
       "        text-align: right;\n",
       "    }\n",
       "</style>\n",
       "<table border=\"1\" class=\"dataframe\">\n",
       "  <thead>\n",
       "    <tr style=\"text-align: right;\">\n",
       "      <th></th>\n",
       "      <th>image_name</th>\n",
       "      <th>disaster_name</th>\n",
       "    </tr>\n",
       "  </thead>\n",
       "  <tbody>\n",
       "    <tr>\n",
       "      <th>0</th>\n",
       "      <td>socal-fire_00000581_post_disaster.png</td>\n",
       "      <td>socal-fire</td>\n",
       "    </tr>\n",
       "    <tr>\n",
       "      <th>1</th>\n",
       "      <td>socal-fire_00000529_post_disaster.png</td>\n",
       "      <td>socal-fire</td>\n",
       "    </tr>\n",
       "    <tr>\n",
       "      <th>2</th>\n",
       "      <td>hurricane-harvey_00000286_post_disaster.png</td>\n",
       "      <td>hurricane-harvey</td>\n",
       "    </tr>\n",
       "    <tr>\n",
       "      <th>3</th>\n",
       "      <td>midwest-flooding_00000111_post_disaster.png</td>\n",
       "      <td>midwest-flooding</td>\n",
       "    </tr>\n",
       "    <tr>\n",
       "      <th>4</th>\n",
       "      <td>socal-fire_00000863_post_disaster.png</td>\n",
       "      <td>socal-fire</td>\n",
       "    </tr>\n",
       "  </tbody>\n",
       "</table>\n",
       "</div>"
      ],
      "text/plain": [
       "                                    image_name     disaster_name\n",
       "0        socal-fire_00000581_post_disaster.png        socal-fire\n",
       "1        socal-fire_00000529_post_disaster.png        socal-fire\n",
       "2  hurricane-harvey_00000286_post_disaster.png  hurricane-harvey\n",
       "3  midwest-flooding_00000111_post_disaster.png  midwest-flooding\n",
       "4        socal-fire_00000863_post_disaster.png        socal-fire"
      ]
     },
     "execution_count": 81,
     "metadata": {},
     "output_type": "execute_result"
    }
   ],
   "source": [
    "# creating dataframe for data with no building annotations\n",
    "\n",
    "no_build_disaster = [x.split(\"_\")[0] for x in images_no_buildings]\n",
    "df_images_with_no_buildings = pd.DataFrame({\n",
    "    'image_name': images_no_buildings,\n",
    "    'disaster_name': no_build_disaster\n",
    "})\n",
    "print(\"n images with no building annotation: \",len(no_build_disaster))\n",
    "df_images_with_no_buildings.head()\n",
    "\n"
   ]
  },
  {
   "cell_type": "code",
   "execution_count": 82,
   "metadata": {},
   "outputs": [
    {
     "data": {
      "text/plain": [
       "disaster_name\n",
       "hurricane-florence       9\n",
       "hurricane-harvey         9\n",
       "hurricane-matthew        9\n",
       "hurricane-michael        5\n",
       "midwest-flooding        29\n",
       "palu-tsunami             1\n",
       "santa-rosa-wildfire      3\n",
       "socal-fire             261\n",
       "Name: image_name, dtype: int64"
      ]
     },
     "execution_count": 82,
     "metadata": {},
     "output_type": "execute_result"
    }
   ],
   "source": [
    "# n images with no building annotations per disaster\n",
    "\n",
    "img_per_disaster_no_build = df_images_with_no_buildings.groupby(\"disaster_name\")[\"image_name\"].count()\n",
    "img_per_disaster_no_build\n"
   ]
  },
  {
   "cell_type": "code",
   "execution_count": 83,
   "metadata": {},
   "outputs": [
    {
     "name": "stdout",
     "output_type": "stream",
     "text": [
      "Confirming. Total images with buildings:  1353\n"
     ]
    },
    {
     "data": {
      "text/plain": [
       "metadata_disaster\n",
       "guatemala-volcano       12\n",
       "hurricane-florence     193\n",
       "hurricane-harvey       171\n",
       "hurricane-matthew      144\n",
       "hurricane-michael      201\n",
       "mexico-earthquake       75\n",
       "midwest-flooding       136\n",
       "palu-tsunami            68\n",
       "santa-rosa-wildfire    127\n",
       "socal-fire             226\n",
       "Name: metadata_id, dtype: int64"
      ]
     },
     "execution_count": 83,
     "metadata": {},
     "output_type": "execute_result"
    }
   ],
   "source": [
    "# how many images (with building annotations) per DISASTER we have?\n",
    "\n",
    "img_per_disaster_with_build=df.groupby(\"metadata_disaster\")[\"metadata_id\"].nunique()\n",
    "print(\"Confirming. Total images with buildings: \",img_per_disaster_with_build.sum()) # --> correct!\n",
    "img_per_disaster_with_build\n",
    "\n"
   ]
  },
  {
   "cell_type": "code",
   "execution_count": 84,
   "metadata": {},
   "outputs": [
    {
     "data": {
      "image/png": "[encoded data removed]",
      "text/plain": [
       "<Figure size 1000x600 with 1 Axes>"
      ]
     },
     "metadata": {},
     "output_type": "display_data"
    }
   ],
   "source": [
    "# Create a bar plot for number of images with and without building annotations, per disaster\n",
    "\n",
    "plt.figure(figsize=(10, 6))\n",
    "\n",
    "# Set the width of the bars\n",
    "bar_width = 0.4\n",
    "\n",
    "# Create an array of x positions for the bars\n",
    "x = np.arange(len(img_per_disaster_no_build.index))\n",
    "#Bar plot for buildings\n",
    "plt.bar(img_per_disaster_with_build.index, img_per_disaster_with_build.values, color='orange', label='Buildings',width=bar_width)\n",
    "\n",
    "# Bar plot for images with no buildings\n",
    "plt.bar(img_per_disaster_no_build.index, img_per_disaster_no_build.values, color='blue', align='center', label='No Buildings',width=bar_width/2)\n",
    "\n",
    "# \n",
    "plt.xlabel('')\n",
    "plt.ylabel('number of images pair')\n",
    "plt.title('Number of image pairs per disaster')\n",
    "plt.legend()\n",
    "plt.xticks(rotation=45, ha='right')\n",
    "\n",
    "\n",
    "plt.tight_layout()\n",
    "plt.show()"
   ]
  },
  {
   "cell_type": "code",
   "execution_count": 85,
   "metadata": {},
   "outputs": [
    {
     "data": {
      "text/plain": [
       "array(['no-damage', 'un-classified', 'minor-damage', 'major-damage',\n",
       "       'destroyed'], dtype=object)"
      ]
     },
     "execution_count": 85,
     "metadata": {},
     "output_type": "execute_result"
    }
   ],
   "source": [
    "# all different damage classification labels we have\n",
    "df['properties_subtype'].unique()\n",
    "\n",
    "# what is nan?"
   ]
  },
  {
   "cell_type": "code",
   "execution_count": 86,
   "metadata": {},
   "outputs": [
    {
     "data": {
      "text/plain": [
       "properties_subtype\n",
       "no-damage        75028\n",
       "minor-damage      8970\n",
       "major-damage      8208\n",
       "destroyed         7937\n",
       "un-classified     1721\n",
       "Name: metadata_id, dtype: int64"
      ]
     },
     "execution_count": 86,
     "metadata": {},
     "output_type": "execute_result"
    }
   ],
   "source": [
    "# how many building per damage label?\n",
    "buildings_per_label=df.groupby(\"properties_subtype\")[\"metadata_id\"].count()\n",
    "\n",
    "# changing the order of labels\n",
    "index_order = ['no-damage', 'minor-damage', 'major-damage', 'destroyed', 'un-classified']\n",
    "new_buildings_per_label=buildings_per_label.reindex(index_order)\n",
    "\n",
    "new_buildings_per_label\n"
   ]
  },
  {
   "cell_type": "code",
   "execution_count": 87,
   "metadata": {},
   "outputs": [
    {
     "data": {
      "image/png": "[encoded data removed]",
      "text/plain": [
       "<Figure size 1000x600 with 1 Axes>"
      ]
     },
     "metadata": {},
     "output_type": "display_data"
    }
   ],
   "source": [
    "# plot number of buildings per damage label\n",
    "\n",
    "colors = [\"white\", \"yellow\", \"orange\", \"red\",\"black\"] \n",
    "\n",
    "#plt.rcParams['figure.facecolor'] = 'white'  \n",
    "# Create a countplot using Seaborn\n",
    "#sns.set(style=\"whitegrid\")\n",
    "\n",
    "plt.figure(figsize=(10, 6))\n",
    "ax = sns.barplot(x=new_buildings_per_label.index,y=new_buildings_per_label, palette=colors)\n",
    "for p in ax.patches:\n",
    "    p.set_edgecolor(\"black\")\n",
    "# Customize the plot\n",
    "plt.xlabel(\"\", fontsize=14)\n",
    "plt.ylabel(\"Number of buildings\", fontsize=14)\n",
    "#plt.title(\"Number of image pairs per disaster\", fontsize=16)\n",
    "plt.xticks(rotation=45, ha=\"right\")\n",
    "# Show the plot\n",
    "plt.show()"
   ]
  },
  {
   "cell_type": "code",
   "execution_count": 88,
   "metadata": {},
   "outputs": [
    {
     "data": {
      "text/html": [
       "<div>\n",
       "<style scoped>\n",
       "    .dataframe tbody tr th:only-of-type {\n",
       "        vertical-align: middle;\n",
       "    }\n",
       "\n",
       "    .dataframe tbody tr th {\n",
       "        vertical-align: top;\n",
       "    }\n",
       "\n",
       "    .dataframe thead th {\n",
       "        text-align: right;\n",
       "    }\n",
       "</style>\n",
       "<table border=\"1\" class=\"dataframe\">\n",
       "  <thead>\n",
       "    <tr style=\"text-align: right;\">\n",
       "      <th></th>\n",
       "      <th>properties_subtype</th>\n",
       "    </tr>\n",
       "    <tr>\n",
       "      <th>metadata_id</th>\n",
       "      <th></th>\n",
       "    </tr>\n",
       "  </thead>\n",
       "  <tbody>\n",
       "    <tr>\n",
       "      <th>MjU0NjA0MA.pO84SnlRHej3cxvDsnh4Cf7a_Ck</th>\n",
       "      <td>1</td>\n",
       "    </tr>\n",
       "    <tr>\n",
       "      <th>MjU0NjA0Mw.tEbtkDyJqMufk-jEMOytA9W8UBY</th>\n",
       "      <td>5</td>\n",
       "    </tr>\n",
       "    <tr>\n",
       "      <th>MjU0NjA0NA.Lb2cseRqARezpehqHfBTkPYW4nA</th>\n",
       "      <td>2</td>\n",
       "    </tr>\n",
       "    <tr>\n",
       "      <th>MjU0NjA0Nw.Bf82eWT3M934rw6aCCN4ZODQduc</th>\n",
       "      <td>4</td>\n",
       "    </tr>\n",
       "    <tr>\n",
       "      <th>MjU0NjA0OA.Q7hHOsiZkZ87jsjCfqQ5DrlIaJk</th>\n",
       "      <td>5</td>\n",
       "    </tr>\n",
       "    <tr>\n",
       "      <th>...</th>\n",
       "      <td>...</td>\n",
       "    </tr>\n",
       "    <tr>\n",
       "      <th>MjUyNjkyNQ.PmIL1o_48g-c9IM4Zscx7lGXwHI</th>\n",
       "      <td>3</td>\n",
       "    </tr>\n",
       "    <tr>\n",
       "      <th>MjUyNjkzMA.meNbEwFYBs3FfYPbd5r6_nC1Y_k</th>\n",
       "      <td>2</td>\n",
       "    </tr>\n",
       "    <tr>\n",
       "      <th>MjUyNjkzMQ.-shG9K7s13mq_beIxftJ5VRQS6U</th>\n",
       "      <td>1</td>\n",
       "    </tr>\n",
       "    <tr>\n",
       "      <th>MjUyNjkzNg.4ORV8aB84mP--nKi3tgXHv4Gv7E</th>\n",
       "      <td>1</td>\n",
       "    </tr>\n",
       "    <tr>\n",
       "      <th>MjUyNjkzOQ.Terdqtef3WJFa0m5e4rdODea6wg</th>\n",
       "      <td>1</td>\n",
       "    </tr>\n",
       "  </tbody>\n",
       "</table>\n",
       "<p>1353 rows × 1 columns</p>\n",
       "</div>"
      ],
      "text/plain": [
       "                                        properties_subtype\n",
       "metadata_id                                               \n",
       "MjU0NjA0MA.pO84SnlRHej3cxvDsnh4Cf7a_Ck                   1\n",
       "MjU0NjA0Mw.tEbtkDyJqMufk-jEMOytA9W8UBY                   5\n",
       "MjU0NjA0NA.Lb2cseRqARezpehqHfBTkPYW4nA                   2\n",
       "MjU0NjA0Nw.Bf82eWT3M934rw6aCCN4ZODQduc                   4\n",
       "MjU0NjA0OA.Q7hHOsiZkZ87jsjCfqQ5DrlIaJk                   5\n",
       "...                                                    ...\n",
       "MjUyNjkyNQ.PmIL1o_48g-c9IM4Zscx7lGXwHI                   3\n",
       "MjUyNjkzMA.meNbEwFYBs3FfYPbd5r6_nC1Y_k                   2\n",
       "MjUyNjkzMQ.-shG9K7s13mq_beIxftJ5VRQS6U                   1\n",
       "MjUyNjkzNg.4ORV8aB84mP--nKi3tgXHv4Gv7E                   1\n",
       "MjUyNjkzOQ.Terdqtef3WJFa0m5e4rdODea6wg                   1\n",
       "\n",
       "[1353 rows x 1 columns]"
      ]
     },
     "execution_count": 88,
     "metadata": {},
     "output_type": "execute_result"
    }
   ],
   "source": [
    "# check how many different labels there are per image\n",
    "unique_labels_per_image = df.groupby('metadata_id')['properties_subtype'].nunique()\n",
    "num_labels = pd.DataFrame(unique_labels_per_image)\n",
    "num_labels"
   ]
  },
  {
   "cell_type": "code",
   "execution_count": 89,
   "metadata": {},
   "outputs": [
    {
     "data": {
      "text/plain": [
       "array([1, 5, 2, 4, 3])"
      ]
     },
     "execution_count": 89,
     "metadata": {},
     "output_type": "execute_result"
    }
   ],
   "source": [
    "#how many different labels per one image (from 1 up to 5 in this dataset)\n",
    "num_labels['properties_subtype'].unique()"
   ]
  },
  {
   "cell_type": "code",
   "execution_count": 90,
   "metadata": {},
   "outputs": [
    {
     "data": {
      "text/plain": [
       "properties_subtype    851\n",
       "dtype: int64"
      ]
     },
     "execution_count": 90,
     "metadata": {},
     "output_type": "execute_result"
    }
   ],
   "source": [
    "# how many images have more than 1 label --> 851 from 1353\n",
    "num_labels.query('properties_subtype > 1').count()"
   ]
  },
  {
   "cell_type": "code",
   "execution_count": 91,
   "metadata": {},
   "outputs": [
    {
     "name": "stdout",
     "output_type": "stream",
     "text": [
      "['earthquake' 'wind' 'flooding' 'fire' 'tsunami' 'volcano']\n"
     ]
    }
   ],
   "source": [
    "# which disasters have more than 1 class label per image --all 6\n",
    "\n",
    "# Group the DataFrame by 'metadata_id' and calculate the number of unique class labels per image\n",
    "unique_labels_per_image = df.groupby('metadata_id')['properties_subtype'].nunique()\n",
    "\n",
    "# Filter the DataFrame to include only images with more than one unique label\n",
    "filtered_df = df[df['metadata_id'].isin(unique_labels_per_image[unique_labels_per_image > 1].index)]\n",
    "\n",
    "# Get the unique types of disaster for the filtered images\n",
    "unique_disaster_types = filtered_df['metadata_disaster_type'].unique()\n",
    "\n",
    "print(unique_disaster_types)"
   ]
  }
 ],
 "metadata": {
  "kernelspec": {
   "display_name": "Python 3",
   "language": "python",
   "name": "python3"
  },
  "language_info": {
   "codemirror_mode": {
    "name": "ipython",
    "version": 3
   },
   "file_extension": ".py",
   "mimetype": "text/x-python",
   "name": "python",
   "nbconvert_exporter": "python",
   "pygments_lexer": "ipython3",
   "version": "3.11.4"
  },
  "orig_nbformat": 4
 },
 "nbformat": 4,
 "nbformat_minor": 2
}
