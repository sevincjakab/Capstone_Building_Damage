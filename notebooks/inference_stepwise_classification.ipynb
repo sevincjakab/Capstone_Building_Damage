{
 "cells": [
  {
   "cell_type": "code",
   "execution_count": 2,
   "metadata": {},
   "outputs": [],
   "source": [
    "\n",
    "import numpy as np\n",
    "import tensorflow as tf\n",
    "\n",
    "from sklearn.model_selection import train_test_split"
   ]
  },
  {
   "cell_type": "code",
   "execution_count": 3,
   "metadata": {},
   "outputs": [],
   "source": [
    "#CHANGE HERE TO PATH WHERE NPZ FILE FOR POST DISASTER IS\n",
    "\n",
    "# LOADING TENSORS\n",
    "#to recover images and mask arrays:\n",
    "loaded_arrays_post = np.load('/Volumes/Elements/data_buidings_challenge/tensors_post_xBD_last_subset.npz')\n",
    "\n",
    "\n"
   ]
  },
  {
   "cell_type": "code",
   "execution_count": 4,
   "metadata": {},
   "outputs": [],
   "source": [
    "# getting images and masks from post tensors\n",
    "\n",
    "images_post = loaded_arrays_post['images']\n",
    "masks_post = loaded_arrays_post['masks']\n",
    "id_post = loaded_arrays_post['id'] # file names for each image-mask pair\n"
   ]
  },
  {
   "cell_type": "code",
   "execution_count": 5,
   "metadata": {},
   "outputs": [
    {
     "name": "stdout",
     "output_type": "stream",
     "text": [
      "1353 1353\n",
      "(1024, 1024, 3)\n",
      "(1024, 1024, 1)\n",
      "(1353,)\n"
     ]
    }
   ],
   "source": [
    "X = images_post\n",
    "y = masks_post\n",
    "\n",
    "print(len(X), len(y)) \n",
    "print (X[0].shape)\n",
    "print (y[0].shape)\n",
    "print(id_post.shape)"
   ]
  },
  {
   "cell_type": "code",
   "execution_count": 7,
   "metadata": {},
   "outputs": [],
   "source": [
    "# SPLITTING\n",
    "train_X, val_X,train_y, val_y= train_test_split(X, y, test_size=0.2, \n",
    "                                                      random_state=0\n",
    "                                                     )"
   ]
  },
  {
   "cell_type": "code",
   "execution_count": 8,
   "metadata": {},
   "outputs": [
    {
     "name": "stdout",
     "output_type": "stream",
     "text": [
      "1082\n",
      "271\n"
     ]
    }
   ],
   "source": [
    "\n",
    "# develop tf Dataset objects\n",
    "#train_X = tf.data.Dataset.from_tensor_slices(train_X)\n",
    "#val_X = tf.data.Dataset.from_tensor_slices(val_X)\n",
    "train_dataset = tf.data.Dataset.from_tensor_slices((train_X,train_y))\n",
    "val_dataset = tf.data.Dataset.from_tensor_slices((val_X,val_y))\n",
    "\n",
    "#train_y = tf.data.Dataset.from_tensor_slices(train_y)\n",
    "#val_y = tf.data.Dataset.from_tensor_slices(val_y)\n",
    "#print(len(train_X) ,len(val_X),len(train_y),len(val_y))\n",
    "# verify the shapes and data types\n",
    "train_dataset.element_spec, val_dataset.element_spec\n",
    "print(len(train_dataset))\n",
    "print(len(val_dataset))\n"
   ]
  },
  {
   "cell_type": "code",
   "execution_count": 9,
   "metadata": {},
   "outputs": [],
   "source": [
    "def map_fn(image, mask):\n",
    "    # Assign names to the elements in the dataset\n",
    "    return {\"image\": image, \"segmentation_mask\": mask}\n",
    "\n",
    "named_dataset_train = train_dataset.map(map_fn)\n",
    "named_dataset_val = val_dataset.map(map_fn)\n",
    "\n"
   ]
  },
  {
   "cell_type": "code",
   "execution_count": 14,
   "metadata": {},
   "outputs": [],
   "source": [
    "# here we could try with nearest instead bilinear\n",
    "# to solve the problem of getting pixels with categories\n",
    "# that do not exist after resizing\n",
    "from tensorflow.keras import backend\n",
    "\n",
    "image_size = 512\n",
    "mean = tf.constant([0.485, 0.456, 0.406])\n",
    "std = tf.constant([0.229, 0.224, 0.225])\n",
    "\n",
    "\n",
    "def normalize(input_image, input_mask):\n",
    "    input_image = tf.image.convert_image_dtype(input_image, tf.float32)\n",
    "    input_image = (input_image - mean) / tf.maximum(std, backend.epsilon())\n",
    "    #input_mask -= 1\n",
    "    return input_image, input_mask\n",
    "\n",
    "\n",
    "def load_image(datapoint):\n",
    "    input_image = tf.image.resize(datapoint[\"image\"], (image_size, image_size))\n",
    "    input_mask = tf.image.resize(\n",
    "        datapoint[\"segmentation_mask\"],\n",
    "        (image_size, image_size),\n",
    "        method=\"bilinear\",\n",
    "    )\n",
    "    \n",
    "    input_image, input_mask = normalize(input_image, input_mask)\n",
    "    input_image = tf.transpose(input_image, (2, 0, 1))\n",
    "    return {\"pixel_values\": input_image, \"labels\": tf.squeeze(input_mask)}    "
   ]
  },
  {
   "cell_type": "code",
   "execution_count": 15,
   "metadata": {},
   "outputs": [],
   "source": [
    "auto = tf.data.AUTOTUNE\n",
    "batch_size = 4\n",
    "\n",
    "train = (\n",
    "    named_dataset_train\n",
    "    .cache()\n",
    "    .shuffle(batch_size * 10)\n",
    "    .map(load_image, num_parallel_calls=auto)\n",
    "    .batch(batch_size)\n",
    "    .prefetch(auto)\n",
    ")\n",
    "val = (\n",
    "    named_dataset_val\n",
    "    .map(load_image, num_parallel_calls=auto)\n",
    "    .batch(batch_size)\n",
    "    .prefetch(auto)\n",
    ")"
   ]
  },
  {
   "cell_type": "code",
   "execution_count": 16,
   "metadata": {},
   "outputs": [],
   "source": [
    "import matplotlib.pyplot as plt\n",
    "\n",
    "def convert_mask_to_3_channels(mask_1_channel):\n",
    "    \"\"\"convert 1 channel mask (numpy array) in 3 channel mask, preserving labels \n",
    "    defined in \"category_colors\" dictionary\n",
    "    \n",
    "    Args:\n",
    "        mask (~numpy.ndarray): A mask array with 1 dimension.\n",
    "        \n",
    "    Returns:\n",
    "        mask (~numpy.ndarray) with 3 channels.\n",
    "    \"\"\"\n",
    "    # Assuming mask_1_channels has shape (height, width, 1)\n",
    "    height, width, _ = mask_1_channel.shape\n",
    "\n",
    "    # Create an empty array with shape (height, width, 1) for the single-channel mask\n",
    "    deep_mask = np.zeros((height, width, 3), dtype=np.uint8)\n",
    "\n",
    "    # Define the colors representing each category (RGB values)\n",
    "    category_colors = {\n",
    "        0:(0, 0, 0),        # Class 0 - Black (no building) or un-classified\n",
    "        1:(255, 255, 255),  # Class 1 - White (no-damage)\n",
    "        2:(255,255,0),     # Class 2 - Yellow (minor damage)\n",
    "        3:(255,165,0),     # Class 3 - Orange (major damage)\n",
    "        4:(255, 0, 0),     # Class 4 - Red (destroyed)\n",
    "    }\n",
    "    # Loop through each pixel and assign the corresponding category to the single-channel mask\n",
    "    for y in range(height):\n",
    "        for x in range(width):\n",
    "            pixel_color = mask_1_channel[y, x, 0]\n",
    "            category = category_colors.get(pixel_color, (-1,-1,-1))  # -1 for unknown category\n",
    "            deep_mask[y, x] = category\n",
    "\n",
    "    return deep_mask\n",
    "\n",
    "def display(display_list):\n",
    "    plt.figure(figsize=(15, 15))\n",
    "\n",
    "    title = [\"Input Image\", \"True Mask\", \"Predicted Mask\"]\n",
    "\n",
    "    for i in range(len(display_list)):\n",
    "        plt.subplot(1, len(display_list), i + 1)\n",
    "        plt.title(title[i])\n",
    "        plt.imshow(tf.keras.utils.array_to_img(display_list[i]))\n",
    "        plt.axis(\"off\")\n",
    "    # Create the folder if it doesn't exist\n",
    "    plt.show()\n"
   ]
  },
  {
   "cell_type": "code",
   "execution_count": null,
   "metadata": {},
   "outputs": [],
   "source": [
    "\n",
    "# def calculate_iou(y_true, y_pred):\n",
    "#     intersection = np.logical_and(y_true, y_pred)\n",
    "#     union = np.logical_or(y_true, y_pred)\n",
    "#     iou = np.sum(intersection) / np.sum(union)\n",
    "#     return iou\n",
    "\n",
    "# def calculate_dice_coefficient(y_true, y_pred):\n",
    "#     intersection = np.logical_and(y_true, y_pred)\n",
    "#     dice_coefficient = 2.0 * np.sum(intersection) / (np.sum(y_true) + np.sum(y_pred))\n",
    "#     return dice_coefficient\n",
    "\n",
    "# def calculate_pixel_accuracy(y_true, y_pred):\n",
    "#     pixel_accuracy = np.mean(y_true == y_pred)\n",
    "#     return pixel_accuracy\n",
    "\n",
    "\n"
   ]
  },
  {
   "cell_type": "code",
   "execution_count": 17,
   "metadata": {},
   "outputs": [],
   "source": [
    "def create_mask_single(pred_mask):\n",
    "    pred_mask = tf.math.argmax(pred_mask, axis=0)\n",
    "    pred_mask = tf.expand_dims(pred_mask, -1)\n",
    "    return pred_mask"
   ]
  },
  {
   "cell_type": "code",
   "execution_count": 18,
   "metadata": {},
   "outputs": [
    {
     "name": "stderr",
     "output_type": "stream",
     "text": [
      "All model checkpoint layers were used when initializing TFSegformerForSemanticSegmentation.\n",
      "\n",
      "All the layers of TFSegformerForSemanticSegmentation were initialized from the model checkpoint at classification_model_test1.\n",
      "If your task is similar to the task the model of the checkpoint was trained on, you can already use TFSegformerForSemanticSegmentation for predictions without further training.\n"
     ]
    },
    {
     "name": "stdout",
     "output_type": "stream",
     "text": [
      "68/68 [==============================] - 114s 2s/step\n"
     ]
    }
   ],
   "source": [
    "# Load the saved model from the \"saved_model\" directory\n",
    "\n",
    "from transformers import TFSegformerForSemanticSegmentation\n",
    "\n",
    "loaded_model =  TFSegformerForSemanticSegmentation.from_pretrained(\"classification_model_test1\", local_files_only=True)\n",
    "#\n",
    "\n",
    "# # Use the loaded model to make predictions on new data\n",
    "predictions = loaded_model.predict(val)  # Replace 'inputs' with your new data\n",
    "\n",
    "# # 'predictions' will contain the logits or probabilities, depending on the model's configuration\n",
    "\n",
    "# # If you need the predicted masks, you can use the 'create_mask' function you defined earlier\n",
    "# predicted_masks = create_mask(predictions.logits)\n"
   ]
  },
  {
   "cell_type": "code",
   "execution_count": 33,
   "metadata": {},
   "outputs": [],
   "source": [
    "from sklearn.metrics import f1_score\n",
    "\n",
    "def count_pixel_categories(flat_array):\n",
    "    categories_per_pixel = {}\n",
    "    for cat in flat_array:\n",
    "        if cat in categories_per_pixel:\n",
    "            categories_per_pixel[cat] += 1\n",
    "        else:\n",
    "            categories_per_pixel[cat] = 1\n",
    "    return categories_per_pixel\n",
    "\n",
    "\n",
    "def calc_f1_score_per_class(dataset=None):\n",
    "    f1_per_class = {}\n",
    "    n_total = 0\n",
    "    if dataset:\n",
    "        for sample in dataset:\n",
    "            \n",
    "            print(\"entering in loop for sample\")\n",
    "            #print(n_total)\n",
    "            images, masks = sample[\"pixel_values\"], sample[\"labels\"]\n",
    "            masks = tf.expand_dims(masks, -1)\n",
    "\n",
    "            #print(images.shape,masks.shape)\n",
    "            pred_masks = loaded_model.predict(images).logits\n",
    "            #print(pred_masks.shape)\n",
    "            #print(final_pred_masks.shape)\n",
    "            for i in range(0,len(images)):\n",
    "                image = images[i,:,:,:]\n",
    "                mask= masks[i,:,:]\n",
    "                pred_mask = pred_masks[i,:,:,:]\n",
    "                #print(image.shape,mask.shape,pred_mask.shape)\n",
    "                final_pred_mask = create_mask_single(pred_mask)\n",
    "                #print(final_pred_mask.shape)\n",
    "                final_pred_mask=tf.image.resize(final_pred_mask, (512, 512), method=\"nearest\")\n",
    "                #print(mask.shape,final_pred_mask.shape)\n",
    "                \n",
    "                #pred_mask = loaded_model.predict(image).logits\n",
    "\n",
    "                real = np.array(mask).astype(int).flatten()  # Flatten the real mask\n",
    "                predicted = np.array(final_pred_mask).astype(int).flatten()  # Flatten the predicted mask\n",
    "                # printing info f1 per category\n",
    "                print(\"real classes: \",np.unique(real))\n",
    "                print(\"predicted classes: \",np.unique(predicted))\n",
    "                print(\"categories per pixel real image: \",count_pixel_categories(real))\n",
    "                \n",
    "                # Calculate the F1 score per class\n",
    "                unique_labels = np.unique(np.concatenate((real, predicted)))\n",
    "                print(\"label\",\"f1\")\n",
    "                for label in unique_labels:\n",
    "                    f1 = f1_score(real == label, predicted == label)\n",
    "                    \n",
    "\n",
    "                    print(label,f1)\n",
    "                    f1_per_class[label] = f1_per_class.get(label, 0) + f1\n",
    "                # to plot\n",
    "                image = tf.transpose(image, (1, 2, 0))\n",
    "\n",
    "                mask_deep=convert_mask_to_3_channels(np.array(mask))\n",
    "\n",
    "                pred_mask_create_3ch = convert_mask_to_3_channels(np.array(final_pred_mask))\n",
    "                \n",
    "                display([image, mask_deep, pred_mask_create_3ch])\n",
    "\n",
    "                n_total += 1\n",
    "\n",
    "    else:\n",
    "        display(\n",
    "            [\n",
    "                sample_image,\n",
    "                sample_mask,\n",
    "                create_mask(loaded_model.predict(tf.expand_dims(sample_image, 0))),\n",
    "            ]\n",
    "        )\n",
    "\n",
    "    # Calculate the average F1 score per class\n",
    "    for label, f1_total in f1_per_class.items():\n",
    "        f1_per_class[label] = f1_total / n_total\n",
    "\n",
    "    return f1_per_class"
   ]
  },
  {
   "cell_type": "code",
   "execution_count": 34,
   "metadata": {},
   "outputs": [
    {
     "name": "stdout",
     "output_type": "stream",
     "text": [
      "68\n",
      "entering in loop for sample\n",
      "0\n",
      "1/1 [==============================] - 2s 2s/step\n",
      "entering in loop for sample\n",
      "4\n",
      "1/1 [==============================] - 2s 2s/step\n",
      "entering in loop for sample\n",
      "8\n",
      "1/1 [==============================] - 2s 2s/step\n",
      "entering in loop for sample\n",
      "12\n",
      "1/1 [==============================] - 2s 2s/step\n",
      "entering in loop for sample\n",
      "16\n",
      "1/1 [==============================] - 2s 2s/step\n",
      "entering in loop for sample\n",
      "20\n",
      "1/1 [==============================] - 2s 2s/step\n",
      "entering in loop for sample\n",
      "24\n",
      "1/1 [==============================] - 2s 2s/step\n",
      "entering in loop for sample\n",
      "28\n",
      "1/1 [==============================] - 2s 2s/step\n",
      "entering in loop for sample\n",
      "32\n",
      "1/1 [==============================] - 2s 2s/step\n",
      "entering in loop for sample\n",
      "36\n"
     ]
    },
    {
     "ename": "KeyboardInterrupt",
     "evalue": "",
     "output_type": "error",
     "traceback": [
      "\u001b[0;31m---------------------------------------------------------------------------\u001b[0m",
      "\u001b[0;31mKeyboardInterrupt\u001b[0m                         Traceback (most recent call last)",
      "Cell \u001b[0;32mIn[34], line 2\u001b[0m\n\u001b[1;32m      1\u001b[0m \u001b[39mprint\u001b[39m(\u001b[39mlen\u001b[39m(val))\n\u001b[0;32m----> 2\u001b[0m calc_f1_score_per_class(val)\n",
      "Cell \u001b[0;32mIn[33], line 24\u001b[0m, in \u001b[0;36mcalc_f1_score_per_class\u001b[0;34m(dataset)\u001b[0m\n\u001b[1;32m     21\u001b[0m masks \u001b[39m=\u001b[39m tf\u001b[39m.\u001b[39mexpand_dims(masks, \u001b[39m-\u001b[39m\u001b[39m1\u001b[39m)\n\u001b[1;32m     23\u001b[0m \u001b[39m#print(images.shape,masks.shape)\u001b[39;00m\n\u001b[0;32m---> 24\u001b[0m pred_masks \u001b[39m=\u001b[39m loaded_model\u001b[39m.\u001b[39;49mpredict(images)\u001b[39m.\u001b[39mlogits\n\u001b[1;32m     25\u001b[0m \u001b[39m#print(pred_masks.shape)\u001b[39;00m\n\u001b[1;32m     26\u001b[0m \u001b[39m#print(final_pred_masks.shape)\u001b[39;00m\n\u001b[1;32m     27\u001b[0m \u001b[39mfor\u001b[39;00m i \u001b[39min\u001b[39;00m \u001b[39mrange\u001b[39m(\u001b[39m0\u001b[39m,\u001b[39mlen\u001b[39m(images)):\n",
      "File \u001b[0;32m~/DScourse/00_capstone/xView2_baseline_fork/.venv/lib/python3.9/site-packages/keras/src/utils/traceback_utils.py:65\u001b[0m, in \u001b[0;36mfilter_traceback.<locals>.error_handler\u001b[0;34m(*args, **kwargs)\u001b[0m\n\u001b[1;32m     63\u001b[0m filtered_tb \u001b[39m=\u001b[39m \u001b[39mNone\u001b[39;00m\n\u001b[1;32m     64\u001b[0m \u001b[39mtry\u001b[39;00m:\n\u001b[0;32m---> 65\u001b[0m     \u001b[39mreturn\u001b[39;00m fn(\u001b[39m*\u001b[39;49margs, \u001b[39m*\u001b[39;49m\u001b[39m*\u001b[39;49mkwargs)\n\u001b[1;32m     66\u001b[0m \u001b[39mexcept\u001b[39;00m \u001b[39mException\u001b[39;00m \u001b[39mas\u001b[39;00m e:\n\u001b[1;32m     67\u001b[0m     filtered_tb \u001b[39m=\u001b[39m _process_traceback_frames(e\u001b[39m.\u001b[39m__traceback__)\n",
      "File \u001b[0;32m~/DScourse/00_capstone/xView2_baseline_fork/.venv/lib/python3.9/site-packages/keras/src/engine/training.py:2554\u001b[0m, in \u001b[0;36mModel.predict\u001b[0;34m(self, x, batch_size, verbose, steps, callbacks, max_queue_size, workers, use_multiprocessing)\u001b[0m\n\u001b[1;32m   2552\u001b[0m \u001b[39mfor\u001b[39;00m step \u001b[39min\u001b[39;00m data_handler\u001b[39m.\u001b[39msteps():\n\u001b[1;32m   2553\u001b[0m     callbacks\u001b[39m.\u001b[39mon_predict_batch_begin(step)\n\u001b[0;32m-> 2554\u001b[0m     tmp_batch_outputs \u001b[39m=\u001b[39m \u001b[39mself\u001b[39;49m\u001b[39m.\u001b[39;49mpredict_function(iterator)\n\u001b[1;32m   2555\u001b[0m     \u001b[39mif\u001b[39;00m data_handler\u001b[39m.\u001b[39mshould_sync:\n\u001b[1;32m   2556\u001b[0m         context\u001b[39m.\u001b[39masync_wait()\n",
      "File \u001b[0;32m~/DScourse/00_capstone/xView2_baseline_fork/.venv/lib/python3.9/site-packages/tensorflow/python/util/traceback_utils.py:150\u001b[0m, in \u001b[0;36mfilter_traceback.<locals>.error_handler\u001b[0;34m(*args, **kwargs)\u001b[0m\n\u001b[1;32m    148\u001b[0m filtered_tb \u001b[39m=\u001b[39m \u001b[39mNone\u001b[39;00m\n\u001b[1;32m    149\u001b[0m \u001b[39mtry\u001b[39;00m:\n\u001b[0;32m--> 150\u001b[0m   \u001b[39mreturn\u001b[39;00m fn(\u001b[39m*\u001b[39;49margs, \u001b[39m*\u001b[39;49m\u001b[39m*\u001b[39;49mkwargs)\n\u001b[1;32m    151\u001b[0m \u001b[39mexcept\u001b[39;00m \u001b[39mException\u001b[39;00m \u001b[39mas\u001b[39;00m e:\n\u001b[1;32m    152\u001b[0m   filtered_tb \u001b[39m=\u001b[39m _process_traceback_frames(e\u001b[39m.\u001b[39m__traceback__)\n",
      "File \u001b[0;32m~/DScourse/00_capstone/xView2_baseline_fork/.venv/lib/python3.9/site-packages/tensorflow/python/eager/polymorphic_function/polymorphic_function.py:825\u001b[0m, in \u001b[0;36mFunction.__call__\u001b[0;34m(self, *args, **kwds)\u001b[0m\n\u001b[1;32m    822\u001b[0m compiler \u001b[39m=\u001b[39m \u001b[39m\"\u001b[39m\u001b[39mxla\u001b[39m\u001b[39m\"\u001b[39m \u001b[39mif\u001b[39;00m \u001b[39mself\u001b[39m\u001b[39m.\u001b[39m_jit_compile \u001b[39melse\u001b[39;00m \u001b[39m\"\u001b[39m\u001b[39mnonXla\u001b[39m\u001b[39m\"\u001b[39m\n\u001b[1;32m    824\u001b[0m \u001b[39mwith\u001b[39;00m OptionalXlaContext(\u001b[39mself\u001b[39m\u001b[39m.\u001b[39m_jit_compile):\n\u001b[0;32m--> 825\u001b[0m   result \u001b[39m=\u001b[39m \u001b[39mself\u001b[39;49m\u001b[39m.\u001b[39;49m_call(\u001b[39m*\u001b[39;49margs, \u001b[39m*\u001b[39;49m\u001b[39m*\u001b[39;49mkwds)\n\u001b[1;32m    827\u001b[0m new_tracing_count \u001b[39m=\u001b[39m \u001b[39mself\u001b[39m\u001b[39m.\u001b[39mexperimental_get_tracing_count()\n\u001b[1;32m    828\u001b[0m without_tracing \u001b[39m=\u001b[39m (tracing_count \u001b[39m==\u001b[39m new_tracing_count)\n",
      "File \u001b[0;32m~/DScourse/00_capstone/xView2_baseline_fork/.venv/lib/python3.9/site-packages/tensorflow/python/eager/polymorphic_function/polymorphic_function.py:864\u001b[0m, in \u001b[0;36mFunction._call\u001b[0;34m(self, *args, **kwds)\u001b[0m\n\u001b[1;32m    861\u001b[0m \u001b[39mself\u001b[39m\u001b[39m.\u001b[39m_lock\u001b[39m.\u001b[39mrelease()\n\u001b[1;32m    862\u001b[0m \u001b[39m# In this case we have not created variables on the first call. So we can\u001b[39;00m\n\u001b[1;32m    863\u001b[0m \u001b[39m# run the first trace but we should fail if variables are created.\u001b[39;00m\n\u001b[0;32m--> 864\u001b[0m results \u001b[39m=\u001b[39m \u001b[39mself\u001b[39;49m\u001b[39m.\u001b[39;49m_variable_creation_fn(\u001b[39m*\u001b[39;49margs, \u001b[39m*\u001b[39;49m\u001b[39m*\u001b[39;49mkwds)\n\u001b[1;32m    865\u001b[0m \u001b[39mif\u001b[39;00m \u001b[39mself\u001b[39m\u001b[39m.\u001b[39m_created_variables \u001b[39mand\u001b[39;00m \u001b[39mnot\u001b[39;00m ALLOW_DYNAMIC_VARIABLE_CREATION:\n\u001b[1;32m    866\u001b[0m   \u001b[39mraise\u001b[39;00m \u001b[39mValueError\u001b[39;00m(\u001b[39m\"\u001b[39m\u001b[39mCreating variables on a non-first call to a function\u001b[39m\u001b[39m\"\u001b[39m\n\u001b[1;32m    867\u001b[0m                    \u001b[39m\"\u001b[39m\u001b[39m decorated with tf.function.\u001b[39m\u001b[39m\"\u001b[39m)\n",
      "File \u001b[0;32m~/DScourse/00_capstone/xView2_baseline_fork/.venv/lib/python3.9/site-packages/tensorflow/python/eager/polymorphic_function/tracing_compiler.py:148\u001b[0m, in \u001b[0;36mTracingCompiler.__call__\u001b[0;34m(self, *args, **kwargs)\u001b[0m\n\u001b[1;32m    145\u001b[0m \u001b[39mwith\u001b[39;00m \u001b[39mself\u001b[39m\u001b[39m.\u001b[39m_lock:\n\u001b[1;32m    146\u001b[0m   (concrete_function,\n\u001b[1;32m    147\u001b[0m    filtered_flat_args) \u001b[39m=\u001b[39m \u001b[39mself\u001b[39m\u001b[39m.\u001b[39m_maybe_define_function(args, kwargs)\n\u001b[0;32m--> 148\u001b[0m \u001b[39mreturn\u001b[39;00m concrete_function\u001b[39m.\u001b[39;49m_call_flat(\n\u001b[1;32m    149\u001b[0m     filtered_flat_args, captured_inputs\u001b[39m=\u001b[39;49mconcrete_function\u001b[39m.\u001b[39;49mcaptured_inputs)\n",
      "File \u001b[0;32m~/DScourse/00_capstone/xView2_baseline_fork/.venv/lib/python3.9/site-packages/tensorflow/python/eager/polymorphic_function/monomorphic_function.py:1349\u001b[0m, in \u001b[0;36mConcreteFunction._call_flat\u001b[0;34m(self, args, captured_inputs)\u001b[0m\n\u001b[1;32m   1345\u001b[0m possible_gradient_type \u001b[39m=\u001b[39m gradients_util\u001b[39m.\u001b[39mPossibleTapeGradientTypes(args)\n\u001b[1;32m   1346\u001b[0m \u001b[39mif\u001b[39;00m (possible_gradient_type \u001b[39m==\u001b[39m gradients_util\u001b[39m.\u001b[39mPOSSIBLE_GRADIENT_TYPES_NONE\n\u001b[1;32m   1347\u001b[0m     \u001b[39mand\u001b[39;00m executing_eagerly):\n\u001b[1;32m   1348\u001b[0m   \u001b[39m# No tape is watching; skip to running the function.\u001b[39;00m\n\u001b[0;32m-> 1349\u001b[0m   \u001b[39mreturn\u001b[39;00m \u001b[39mself\u001b[39m\u001b[39m.\u001b[39m_build_call_outputs(\u001b[39mself\u001b[39;49m\u001b[39m.\u001b[39;49m_inference_function(\u001b[39m*\u001b[39;49margs))\n\u001b[1;32m   1350\u001b[0m forward_backward \u001b[39m=\u001b[39m \u001b[39mself\u001b[39m\u001b[39m.\u001b[39m_select_forward_and_backward_functions(\n\u001b[1;32m   1351\u001b[0m     args,\n\u001b[1;32m   1352\u001b[0m     possible_gradient_type,\n\u001b[1;32m   1353\u001b[0m     executing_eagerly)\n\u001b[1;32m   1354\u001b[0m forward_function, args_with_tangents \u001b[39m=\u001b[39m forward_backward\u001b[39m.\u001b[39mforward()\n",
      "File \u001b[0;32m~/DScourse/00_capstone/xView2_baseline_fork/.venv/lib/python3.9/site-packages/tensorflow/python/eager/polymorphic_function/atomic_function.py:196\u001b[0m, in \u001b[0;36mAtomicFunction.__call__\u001b[0;34m(self, *args)\u001b[0m\n\u001b[1;32m    194\u001b[0m \u001b[39mwith\u001b[39;00m record\u001b[39m.\u001b[39mstop_recording():\n\u001b[1;32m    195\u001b[0m   \u001b[39mif\u001b[39;00m \u001b[39mself\u001b[39m\u001b[39m.\u001b[39m_bound_context\u001b[39m.\u001b[39mexecuting_eagerly():\n\u001b[0;32m--> 196\u001b[0m     outputs \u001b[39m=\u001b[39m \u001b[39mself\u001b[39;49m\u001b[39m.\u001b[39;49m_bound_context\u001b[39m.\u001b[39;49mcall_function(\n\u001b[1;32m    197\u001b[0m         \u001b[39mself\u001b[39;49m\u001b[39m.\u001b[39;49mname,\n\u001b[1;32m    198\u001b[0m         \u001b[39mlist\u001b[39;49m(args),\n\u001b[1;32m    199\u001b[0m         \u001b[39mlen\u001b[39;49m(\u001b[39mself\u001b[39;49m\u001b[39m.\u001b[39;49mfunction_type\u001b[39m.\u001b[39;49mflat_outputs),\n\u001b[1;32m    200\u001b[0m     )\n\u001b[1;32m    201\u001b[0m   \u001b[39melse\u001b[39;00m:\n\u001b[1;32m    202\u001b[0m     outputs \u001b[39m=\u001b[39m make_call_op_in_graph(\u001b[39mself\u001b[39m, \u001b[39mlist\u001b[39m(args))\n",
      "File \u001b[0;32m~/DScourse/00_capstone/xView2_baseline_fork/.venv/lib/python3.9/site-packages/tensorflow/python/eager/context.py:1457\u001b[0m, in \u001b[0;36mContext.call_function\u001b[0;34m(self, name, tensor_inputs, num_outputs)\u001b[0m\n\u001b[1;32m   1455\u001b[0m cancellation_context \u001b[39m=\u001b[39m cancellation\u001b[39m.\u001b[39mcontext()\n\u001b[1;32m   1456\u001b[0m \u001b[39mif\u001b[39;00m cancellation_context \u001b[39mis\u001b[39;00m \u001b[39mNone\u001b[39;00m:\n\u001b[0;32m-> 1457\u001b[0m   outputs \u001b[39m=\u001b[39m execute\u001b[39m.\u001b[39;49mexecute(\n\u001b[1;32m   1458\u001b[0m       name\u001b[39m.\u001b[39;49mdecode(\u001b[39m\"\u001b[39;49m\u001b[39mutf-8\u001b[39;49m\u001b[39m\"\u001b[39;49m),\n\u001b[1;32m   1459\u001b[0m       num_outputs\u001b[39m=\u001b[39;49mnum_outputs,\n\u001b[1;32m   1460\u001b[0m       inputs\u001b[39m=\u001b[39;49mtensor_inputs,\n\u001b[1;32m   1461\u001b[0m       attrs\u001b[39m=\u001b[39;49mattrs,\n\u001b[1;32m   1462\u001b[0m       ctx\u001b[39m=\u001b[39;49m\u001b[39mself\u001b[39;49m,\n\u001b[1;32m   1463\u001b[0m   )\n\u001b[1;32m   1464\u001b[0m \u001b[39melse\u001b[39;00m:\n\u001b[1;32m   1465\u001b[0m   outputs \u001b[39m=\u001b[39m execute\u001b[39m.\u001b[39mexecute_with_cancellation(\n\u001b[1;32m   1466\u001b[0m       name\u001b[39m.\u001b[39mdecode(\u001b[39m\"\u001b[39m\u001b[39mutf-8\u001b[39m\u001b[39m\"\u001b[39m),\n\u001b[1;32m   1467\u001b[0m       num_outputs\u001b[39m=\u001b[39mnum_outputs,\n\u001b[0;32m   (...)\u001b[0m\n\u001b[1;32m   1471\u001b[0m       cancellation_manager\u001b[39m=\u001b[39mcancellation_context,\n\u001b[1;32m   1472\u001b[0m   )\n",
      "File \u001b[0;32m~/DScourse/00_capstone/xView2_baseline_fork/.venv/lib/python3.9/site-packages/tensorflow/python/eager/execute.py:53\u001b[0m, in \u001b[0;36mquick_execute\u001b[0;34m(op_name, num_outputs, inputs, attrs, ctx, name)\u001b[0m\n\u001b[1;32m     51\u001b[0m \u001b[39mtry\u001b[39;00m:\n\u001b[1;32m     52\u001b[0m   ctx\u001b[39m.\u001b[39mensure_initialized()\n\u001b[0;32m---> 53\u001b[0m   tensors \u001b[39m=\u001b[39m pywrap_tfe\u001b[39m.\u001b[39;49mTFE_Py_Execute(ctx\u001b[39m.\u001b[39;49m_handle, device_name, op_name,\n\u001b[1;32m     54\u001b[0m                                       inputs, attrs, num_outputs)\n\u001b[1;32m     55\u001b[0m \u001b[39mexcept\u001b[39;00m core\u001b[39m.\u001b[39m_NotOkStatusException \u001b[39mas\u001b[39;00m e:\n\u001b[1;32m     56\u001b[0m   \u001b[39mif\u001b[39;00m name \u001b[39mis\u001b[39;00m \u001b[39mnot\u001b[39;00m \u001b[39mNone\u001b[39;00m:\n",
      "\u001b[0;31mKeyboardInterrupt\u001b[0m: "
     ]
    }
   ],
   "source": [
    "print(len(val))\n",
    "calc_f1_score_per_class(val)"
   ]
  },
  {
   "cell_type": "code",
   "execution_count": null,
   "metadata": {},
   "outputs": [],
   "source": []
  }
 ],
 "metadata": {
  "kernelspec": {
   "display_name": ".venv",
   "language": "python",
   "name": "python3"
  },
  "language_info": {
   "codemirror_mode": {
    "name": "ipython",
    "version": 3
   },
   "file_extension": ".py",
   "mimetype": "text/x-python",
   "name": "python",
   "nbconvert_exporter": "python",
   "pygments_lexer": "ipython3",
   "version": "3.9.17"
  },
  "orig_nbformat": 4
 },
 "nbformat": 4,
 "nbformat_minor": 2
}
